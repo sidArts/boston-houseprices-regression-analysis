{
 "cells": [
  {
   "cell_type": "code",
   "execution_count": 1,
   "id": "b7a7664a",
   "metadata": {
    "scrolled": true
   },
   "outputs": [],
   "source": [
    "# import libraries\n",
    "\n",
    "import warnings\n",
    "from math import sqrt, log\n",
    "import pandas as pd\n",
    "import numpy as np\n",
    "import matplotlib.pyplot as plt\n",
    "import seaborn as sns\n",
    "\n",
    "from scipy import stats\n",
    "from sklearn.model_selection import train_test_split\n",
    "from sklearn.base import BaseEstimator, TransformerMixin\n",
    "from sklearn.linear_model import Lasso, LinearRegression\n",
    "from sklearn.tree import DecisionTreeRegressor\n",
    "from sklearn.ensemble import RandomForestRegressor, GradientBoostingRegressor\n",
    "from sklearn.pipeline import Pipeline\n",
    "from sklearn.metrics import mean_squared_error, r2_score\n",
    "\n",
    "from sklearn.compose import ColumnTransformer, TransformedTargetRegressor\n",
    "from sklearn.preprocessing import OrdinalEncoder, OneHotEncoder, KBinsDiscretizer, MinMaxScaler, StandardScaler, FunctionTransformer, PowerTransformer\n",
    "from sklearn.impute import SimpleImputer\n",
    "\n",
    "\n",
    "from sklearn.feature_selection import VarianceThreshold\n",
    "from sklearn.feature_selection import mutual_info_regression\n",
    "from sklearn.feature_selection import SelectKBest, SelectFromModel, SelectPercentile\n",
    "\n",
    "from mlxtend.feature_selection import SequentialFeatureSelector\n",
    "\n",
    "import feature_engine.encoding as fe_encoding\n",
    "import category_encoders as ce\n",
    "from feature_engine.encoding import DecisionTreeEncoder, RareLabelEncoder, OrdinalEncoder as FeatureEngineOrdinalEncoding\n",
    "from feature_engine.imputation import CategoricalImputer, AddMissingIndicator\n",
    "\n",
    "from sklearn.model_selection import GridSearchCV\n",
    "\n",
    "\n",
    "pd.set_option('display.max_columns', 500)\n",
    "pd.set_option('display.max_rows', 100)\n",
    "warnings.filterwarnings(action='once')"
   ]
  },
  {
   "cell_type": "code",
   "execution_count": 2,
   "id": "d5f3ad5d",
   "metadata": {
    "scrolled": true
   },
   "outputs": [
    {
     "data": {
      "text/plain": [
       "(1460, 80)"
      ]
     },
     "execution_count": 2,
     "metadata": {},
     "output_type": "execute_result"
    }
   ],
   "source": [
    "# Load dataset\n",
    "\n",
    "train_data = pd.read_csv('../datasets/home-data-for-ml-course/train.csv', index_col='Id')\n",
    "\n",
    "train_data.shape"
   ]
  },
  {
   "cell_type": "code",
   "execution_count": 3,
   "id": "a2560d8e",
   "metadata": {
    "scrolled": true
   },
   "outputs": [
    {
     "data": {
      "text/html": [
       "<div>\n",
       "<style scoped>\n",
       "    .dataframe tbody tr th:only-of-type {\n",
       "        vertical-align: middle;\n",
       "    }\n",
       "\n",
       "    .dataframe tbody tr th {\n",
       "        vertical-align: top;\n",
       "    }\n",
       "\n",
       "    .dataframe thead th {\n",
       "        text-align: right;\n",
       "    }\n",
       "</style>\n",
       "<table border=\"1\" class=\"dataframe\">\n",
       "  <thead>\n",
       "    <tr style=\"text-align: right;\">\n",
       "      <th></th>\n",
       "      <th>MSSubClass</th>\n",
       "      <th>MSZoning</th>\n",
       "      <th>LotFrontage</th>\n",
       "      <th>LotArea</th>\n",
       "      <th>Street</th>\n",
       "      <th>Alley</th>\n",
       "      <th>LotShape</th>\n",
       "      <th>LandContour</th>\n",
       "      <th>Utilities</th>\n",
       "      <th>LotConfig</th>\n",
       "      <th>LandSlope</th>\n",
       "      <th>Neighborhood</th>\n",
       "      <th>Condition1</th>\n",
       "      <th>Condition2</th>\n",
       "      <th>BldgType</th>\n",
       "      <th>HouseStyle</th>\n",
       "      <th>OverallQual</th>\n",
       "      <th>OverallCond</th>\n",
       "      <th>YearBuilt</th>\n",
       "      <th>YearRemodAdd</th>\n",
       "      <th>RoofStyle</th>\n",
       "      <th>RoofMatl</th>\n",
       "      <th>Exterior1st</th>\n",
       "      <th>Exterior2nd</th>\n",
       "      <th>MasVnrType</th>\n",
       "      <th>MasVnrArea</th>\n",
       "      <th>ExterQual</th>\n",
       "      <th>ExterCond</th>\n",
       "      <th>Foundation</th>\n",
       "      <th>BsmtQual</th>\n",
       "      <th>BsmtCond</th>\n",
       "      <th>BsmtExposure</th>\n",
       "      <th>BsmtFinType1</th>\n",
       "      <th>BsmtFinSF1</th>\n",
       "      <th>BsmtFinType2</th>\n",
       "      <th>BsmtFinSF2</th>\n",
       "      <th>BsmtUnfSF</th>\n",
       "      <th>TotalBsmtSF</th>\n",
       "      <th>Heating</th>\n",
       "      <th>HeatingQC</th>\n",
       "      <th>CentralAir</th>\n",
       "      <th>Electrical</th>\n",
       "      <th>1stFlrSF</th>\n",
       "      <th>2ndFlrSF</th>\n",
       "      <th>LowQualFinSF</th>\n",
       "      <th>GrLivArea</th>\n",
       "      <th>BsmtFullBath</th>\n",
       "      <th>BsmtHalfBath</th>\n",
       "      <th>FullBath</th>\n",
       "      <th>HalfBath</th>\n",
       "      <th>BedroomAbvGr</th>\n",
       "      <th>KitchenAbvGr</th>\n",
       "      <th>KitchenQual</th>\n",
       "      <th>TotRmsAbvGrd</th>\n",
       "      <th>Functional</th>\n",
       "      <th>Fireplaces</th>\n",
       "      <th>FireplaceQu</th>\n",
       "      <th>GarageType</th>\n",
       "      <th>GarageYrBlt</th>\n",
       "      <th>GarageFinish</th>\n",
       "      <th>GarageCars</th>\n",
       "      <th>GarageArea</th>\n",
       "      <th>GarageQual</th>\n",
       "      <th>GarageCond</th>\n",
       "      <th>PavedDrive</th>\n",
       "      <th>WoodDeckSF</th>\n",
       "      <th>OpenPorchSF</th>\n",
       "      <th>EnclosedPorch</th>\n",
       "      <th>3SsnPorch</th>\n",
       "      <th>ScreenPorch</th>\n",
       "      <th>PoolArea</th>\n",
       "      <th>PoolQC</th>\n",
       "      <th>Fence</th>\n",
       "      <th>MiscFeature</th>\n",
       "      <th>MiscVal</th>\n",
       "      <th>MoSold</th>\n",
       "      <th>YrSold</th>\n",
       "      <th>SaleType</th>\n",
       "      <th>SaleCondition</th>\n",
       "      <th>SalePrice</th>\n",
       "    </tr>\n",
       "    <tr>\n",
       "      <th>Id</th>\n",
       "      <th></th>\n",
       "      <th></th>\n",
       "      <th></th>\n",
       "      <th></th>\n",
       "      <th></th>\n",
       "      <th></th>\n",
       "      <th></th>\n",
       "      <th></th>\n",
       "      <th></th>\n",
       "      <th></th>\n",
       "      <th></th>\n",
       "      <th></th>\n",
       "      <th></th>\n",
       "      <th></th>\n",
       "      <th></th>\n",
       "      <th></th>\n",
       "      <th></th>\n",
       "      <th></th>\n",
       "      <th></th>\n",
       "      <th></th>\n",
       "      <th></th>\n",
       "      <th></th>\n",
       "      <th></th>\n",
       "      <th></th>\n",
       "      <th></th>\n",
       "      <th></th>\n",
       "      <th></th>\n",
       "      <th></th>\n",
       "      <th></th>\n",
       "      <th></th>\n",
       "      <th></th>\n",
       "      <th></th>\n",
       "      <th></th>\n",
       "      <th></th>\n",
       "      <th></th>\n",
       "      <th></th>\n",
       "      <th></th>\n",
       "      <th></th>\n",
       "      <th></th>\n",
       "      <th></th>\n",
       "      <th></th>\n",
       "      <th></th>\n",
       "      <th></th>\n",
       "      <th></th>\n",
       "      <th></th>\n",
       "      <th></th>\n",
       "      <th></th>\n",
       "      <th></th>\n",
       "      <th></th>\n",
       "      <th></th>\n",
       "      <th></th>\n",
       "      <th></th>\n",
       "      <th></th>\n",
       "      <th></th>\n",
       "      <th></th>\n",
       "      <th></th>\n",
       "      <th></th>\n",
       "      <th></th>\n",
       "      <th></th>\n",
       "      <th></th>\n",
       "      <th></th>\n",
       "      <th></th>\n",
       "      <th></th>\n",
       "      <th></th>\n",
       "      <th></th>\n",
       "      <th></th>\n",
       "      <th></th>\n",
       "      <th></th>\n",
       "      <th></th>\n",
       "      <th></th>\n",
       "      <th></th>\n",
       "      <th></th>\n",
       "      <th></th>\n",
       "      <th></th>\n",
       "      <th></th>\n",
       "      <th></th>\n",
       "      <th></th>\n",
       "      <th></th>\n",
       "      <th></th>\n",
       "      <th></th>\n",
       "    </tr>\n",
       "  </thead>\n",
       "  <tbody>\n",
       "    <tr>\n",
       "      <th>1</th>\n",
       "      <td>60</td>\n",
       "      <td>RL</td>\n",
       "      <td>65.0</td>\n",
       "      <td>8450</td>\n",
       "      <td>Pave</td>\n",
       "      <td>NaN</td>\n",
       "      <td>Reg</td>\n",
       "      <td>Lvl</td>\n",
       "      <td>AllPub</td>\n",
       "      <td>Inside</td>\n",
       "      <td>Gtl</td>\n",
       "      <td>CollgCr</td>\n",
       "      <td>Norm</td>\n",
       "      <td>Norm</td>\n",
       "      <td>1Fam</td>\n",
       "      <td>2Story</td>\n",
       "      <td>7</td>\n",
       "      <td>5</td>\n",
       "      <td>2003</td>\n",
       "      <td>2003</td>\n",
       "      <td>Gable</td>\n",
       "      <td>CompShg</td>\n",
       "      <td>VinylSd</td>\n",
       "      <td>VinylSd</td>\n",
       "      <td>BrkFace</td>\n",
       "      <td>196.0</td>\n",
       "      <td>Gd</td>\n",
       "      <td>TA</td>\n",
       "      <td>PConc</td>\n",
       "      <td>Gd</td>\n",
       "      <td>TA</td>\n",
       "      <td>No</td>\n",
       "      <td>GLQ</td>\n",
       "      <td>706</td>\n",
       "      <td>Unf</td>\n",
       "      <td>0</td>\n",
       "      <td>150</td>\n",
       "      <td>856</td>\n",
       "      <td>GasA</td>\n",
       "      <td>Ex</td>\n",
       "      <td>Y</td>\n",
       "      <td>SBrkr</td>\n",
       "      <td>856</td>\n",
       "      <td>854</td>\n",
       "      <td>0</td>\n",
       "      <td>1710</td>\n",
       "      <td>1</td>\n",
       "      <td>0</td>\n",
       "      <td>2</td>\n",
       "      <td>1</td>\n",
       "      <td>3</td>\n",
       "      <td>1</td>\n",
       "      <td>Gd</td>\n",
       "      <td>8</td>\n",
       "      <td>Typ</td>\n",
       "      <td>0</td>\n",
       "      <td>NaN</td>\n",
       "      <td>Attchd</td>\n",
       "      <td>2003.0</td>\n",
       "      <td>RFn</td>\n",
       "      <td>2</td>\n",
       "      <td>548</td>\n",
       "      <td>TA</td>\n",
       "      <td>TA</td>\n",
       "      <td>Y</td>\n",
       "      <td>0</td>\n",
       "      <td>61</td>\n",
       "      <td>0</td>\n",
       "      <td>0</td>\n",
       "      <td>0</td>\n",
       "      <td>0</td>\n",
       "      <td>NaN</td>\n",
       "      <td>NaN</td>\n",
       "      <td>NaN</td>\n",
       "      <td>0</td>\n",
       "      <td>2</td>\n",
       "      <td>2008</td>\n",
       "      <td>WD</td>\n",
       "      <td>Normal</td>\n",
       "      <td>208500</td>\n",
       "    </tr>\n",
       "    <tr>\n",
       "      <th>2</th>\n",
       "      <td>20</td>\n",
       "      <td>RL</td>\n",
       "      <td>80.0</td>\n",
       "      <td>9600</td>\n",
       "      <td>Pave</td>\n",
       "      <td>NaN</td>\n",
       "      <td>Reg</td>\n",
       "      <td>Lvl</td>\n",
       "      <td>AllPub</td>\n",
       "      <td>FR2</td>\n",
       "      <td>Gtl</td>\n",
       "      <td>Veenker</td>\n",
       "      <td>Feedr</td>\n",
       "      <td>Norm</td>\n",
       "      <td>1Fam</td>\n",
       "      <td>1Story</td>\n",
       "      <td>6</td>\n",
       "      <td>8</td>\n",
       "      <td>1976</td>\n",
       "      <td>1976</td>\n",
       "      <td>Gable</td>\n",
       "      <td>CompShg</td>\n",
       "      <td>MetalSd</td>\n",
       "      <td>MetalSd</td>\n",
       "      <td>None</td>\n",
       "      <td>0.0</td>\n",
       "      <td>TA</td>\n",
       "      <td>TA</td>\n",
       "      <td>CBlock</td>\n",
       "      <td>Gd</td>\n",
       "      <td>TA</td>\n",
       "      <td>Gd</td>\n",
       "      <td>ALQ</td>\n",
       "      <td>978</td>\n",
       "      <td>Unf</td>\n",
       "      <td>0</td>\n",
       "      <td>284</td>\n",
       "      <td>1262</td>\n",
       "      <td>GasA</td>\n",
       "      <td>Ex</td>\n",
       "      <td>Y</td>\n",
       "      <td>SBrkr</td>\n",
       "      <td>1262</td>\n",
       "      <td>0</td>\n",
       "      <td>0</td>\n",
       "      <td>1262</td>\n",
       "      <td>0</td>\n",
       "      <td>1</td>\n",
       "      <td>2</td>\n",
       "      <td>0</td>\n",
       "      <td>3</td>\n",
       "      <td>1</td>\n",
       "      <td>TA</td>\n",
       "      <td>6</td>\n",
       "      <td>Typ</td>\n",
       "      <td>1</td>\n",
       "      <td>TA</td>\n",
       "      <td>Attchd</td>\n",
       "      <td>1976.0</td>\n",
       "      <td>RFn</td>\n",
       "      <td>2</td>\n",
       "      <td>460</td>\n",
       "      <td>TA</td>\n",
       "      <td>TA</td>\n",
       "      <td>Y</td>\n",
       "      <td>298</td>\n",
       "      <td>0</td>\n",
       "      <td>0</td>\n",
       "      <td>0</td>\n",
       "      <td>0</td>\n",
       "      <td>0</td>\n",
       "      <td>NaN</td>\n",
       "      <td>NaN</td>\n",
       "      <td>NaN</td>\n",
       "      <td>0</td>\n",
       "      <td>5</td>\n",
       "      <td>2007</td>\n",
       "      <td>WD</td>\n",
       "      <td>Normal</td>\n",
       "      <td>181500</td>\n",
       "    </tr>\n",
       "    <tr>\n",
       "      <th>3</th>\n",
       "      <td>60</td>\n",
       "      <td>RL</td>\n",
       "      <td>68.0</td>\n",
       "      <td>11250</td>\n",
       "      <td>Pave</td>\n",
       "      <td>NaN</td>\n",
       "      <td>IR1</td>\n",
       "      <td>Lvl</td>\n",
       "      <td>AllPub</td>\n",
       "      <td>Inside</td>\n",
       "      <td>Gtl</td>\n",
       "      <td>CollgCr</td>\n",
       "      <td>Norm</td>\n",
       "      <td>Norm</td>\n",
       "      <td>1Fam</td>\n",
       "      <td>2Story</td>\n",
       "      <td>7</td>\n",
       "      <td>5</td>\n",
       "      <td>2001</td>\n",
       "      <td>2002</td>\n",
       "      <td>Gable</td>\n",
       "      <td>CompShg</td>\n",
       "      <td>VinylSd</td>\n",
       "      <td>VinylSd</td>\n",
       "      <td>BrkFace</td>\n",
       "      <td>162.0</td>\n",
       "      <td>Gd</td>\n",
       "      <td>TA</td>\n",
       "      <td>PConc</td>\n",
       "      <td>Gd</td>\n",
       "      <td>TA</td>\n",
       "      <td>Mn</td>\n",
       "      <td>GLQ</td>\n",
       "      <td>486</td>\n",
       "      <td>Unf</td>\n",
       "      <td>0</td>\n",
       "      <td>434</td>\n",
       "      <td>920</td>\n",
       "      <td>GasA</td>\n",
       "      <td>Ex</td>\n",
       "      <td>Y</td>\n",
       "      <td>SBrkr</td>\n",
       "      <td>920</td>\n",
       "      <td>866</td>\n",
       "      <td>0</td>\n",
       "      <td>1786</td>\n",
       "      <td>1</td>\n",
       "      <td>0</td>\n",
       "      <td>2</td>\n",
       "      <td>1</td>\n",
       "      <td>3</td>\n",
       "      <td>1</td>\n",
       "      <td>Gd</td>\n",
       "      <td>6</td>\n",
       "      <td>Typ</td>\n",
       "      <td>1</td>\n",
       "      <td>TA</td>\n",
       "      <td>Attchd</td>\n",
       "      <td>2001.0</td>\n",
       "      <td>RFn</td>\n",
       "      <td>2</td>\n",
       "      <td>608</td>\n",
       "      <td>TA</td>\n",
       "      <td>TA</td>\n",
       "      <td>Y</td>\n",
       "      <td>0</td>\n",
       "      <td>42</td>\n",
       "      <td>0</td>\n",
       "      <td>0</td>\n",
       "      <td>0</td>\n",
       "      <td>0</td>\n",
       "      <td>NaN</td>\n",
       "      <td>NaN</td>\n",
       "      <td>NaN</td>\n",
       "      <td>0</td>\n",
       "      <td>9</td>\n",
       "      <td>2008</td>\n",
       "      <td>WD</td>\n",
       "      <td>Normal</td>\n",
       "      <td>223500</td>\n",
       "    </tr>\n",
       "    <tr>\n",
       "      <th>4</th>\n",
       "      <td>70</td>\n",
       "      <td>RL</td>\n",
       "      <td>60.0</td>\n",
       "      <td>9550</td>\n",
       "      <td>Pave</td>\n",
       "      <td>NaN</td>\n",
       "      <td>IR1</td>\n",
       "      <td>Lvl</td>\n",
       "      <td>AllPub</td>\n",
       "      <td>Corner</td>\n",
       "      <td>Gtl</td>\n",
       "      <td>Crawfor</td>\n",
       "      <td>Norm</td>\n",
       "      <td>Norm</td>\n",
       "      <td>1Fam</td>\n",
       "      <td>2Story</td>\n",
       "      <td>7</td>\n",
       "      <td>5</td>\n",
       "      <td>1915</td>\n",
       "      <td>1970</td>\n",
       "      <td>Gable</td>\n",
       "      <td>CompShg</td>\n",
       "      <td>Wd Sdng</td>\n",
       "      <td>Wd Shng</td>\n",
       "      <td>None</td>\n",
       "      <td>0.0</td>\n",
       "      <td>TA</td>\n",
       "      <td>TA</td>\n",
       "      <td>BrkTil</td>\n",
       "      <td>TA</td>\n",
       "      <td>Gd</td>\n",
       "      <td>No</td>\n",
       "      <td>ALQ</td>\n",
       "      <td>216</td>\n",
       "      <td>Unf</td>\n",
       "      <td>0</td>\n",
       "      <td>540</td>\n",
       "      <td>756</td>\n",
       "      <td>GasA</td>\n",
       "      <td>Gd</td>\n",
       "      <td>Y</td>\n",
       "      <td>SBrkr</td>\n",
       "      <td>961</td>\n",
       "      <td>756</td>\n",
       "      <td>0</td>\n",
       "      <td>1717</td>\n",
       "      <td>1</td>\n",
       "      <td>0</td>\n",
       "      <td>1</td>\n",
       "      <td>0</td>\n",
       "      <td>3</td>\n",
       "      <td>1</td>\n",
       "      <td>Gd</td>\n",
       "      <td>7</td>\n",
       "      <td>Typ</td>\n",
       "      <td>1</td>\n",
       "      <td>Gd</td>\n",
       "      <td>Detchd</td>\n",
       "      <td>1998.0</td>\n",
       "      <td>Unf</td>\n",
       "      <td>3</td>\n",
       "      <td>642</td>\n",
       "      <td>TA</td>\n",
       "      <td>TA</td>\n",
       "      <td>Y</td>\n",
       "      <td>0</td>\n",
       "      <td>35</td>\n",
       "      <td>272</td>\n",
       "      <td>0</td>\n",
       "      <td>0</td>\n",
       "      <td>0</td>\n",
       "      <td>NaN</td>\n",
       "      <td>NaN</td>\n",
       "      <td>NaN</td>\n",
       "      <td>0</td>\n",
       "      <td>2</td>\n",
       "      <td>2006</td>\n",
       "      <td>WD</td>\n",
       "      <td>Abnorml</td>\n",
       "      <td>140000</td>\n",
       "    </tr>\n",
       "    <tr>\n",
       "      <th>5</th>\n",
       "      <td>60</td>\n",
       "      <td>RL</td>\n",
       "      <td>84.0</td>\n",
       "      <td>14260</td>\n",
       "      <td>Pave</td>\n",
       "      <td>NaN</td>\n",
       "      <td>IR1</td>\n",
       "      <td>Lvl</td>\n",
       "      <td>AllPub</td>\n",
       "      <td>FR2</td>\n",
       "      <td>Gtl</td>\n",
       "      <td>NoRidge</td>\n",
       "      <td>Norm</td>\n",
       "      <td>Norm</td>\n",
       "      <td>1Fam</td>\n",
       "      <td>2Story</td>\n",
       "      <td>8</td>\n",
       "      <td>5</td>\n",
       "      <td>2000</td>\n",
       "      <td>2000</td>\n",
       "      <td>Gable</td>\n",
       "      <td>CompShg</td>\n",
       "      <td>VinylSd</td>\n",
       "      <td>VinylSd</td>\n",
       "      <td>BrkFace</td>\n",
       "      <td>350.0</td>\n",
       "      <td>Gd</td>\n",
       "      <td>TA</td>\n",
       "      <td>PConc</td>\n",
       "      <td>Gd</td>\n",
       "      <td>TA</td>\n",
       "      <td>Av</td>\n",
       "      <td>GLQ</td>\n",
       "      <td>655</td>\n",
       "      <td>Unf</td>\n",
       "      <td>0</td>\n",
       "      <td>490</td>\n",
       "      <td>1145</td>\n",
       "      <td>GasA</td>\n",
       "      <td>Ex</td>\n",
       "      <td>Y</td>\n",
       "      <td>SBrkr</td>\n",
       "      <td>1145</td>\n",
       "      <td>1053</td>\n",
       "      <td>0</td>\n",
       "      <td>2198</td>\n",
       "      <td>1</td>\n",
       "      <td>0</td>\n",
       "      <td>2</td>\n",
       "      <td>1</td>\n",
       "      <td>4</td>\n",
       "      <td>1</td>\n",
       "      <td>Gd</td>\n",
       "      <td>9</td>\n",
       "      <td>Typ</td>\n",
       "      <td>1</td>\n",
       "      <td>TA</td>\n",
       "      <td>Attchd</td>\n",
       "      <td>2000.0</td>\n",
       "      <td>RFn</td>\n",
       "      <td>3</td>\n",
       "      <td>836</td>\n",
       "      <td>TA</td>\n",
       "      <td>TA</td>\n",
       "      <td>Y</td>\n",
       "      <td>192</td>\n",
       "      <td>84</td>\n",
       "      <td>0</td>\n",
       "      <td>0</td>\n",
       "      <td>0</td>\n",
       "      <td>0</td>\n",
       "      <td>NaN</td>\n",
       "      <td>NaN</td>\n",
       "      <td>NaN</td>\n",
       "      <td>0</td>\n",
       "      <td>12</td>\n",
       "      <td>2008</td>\n",
       "      <td>WD</td>\n",
       "      <td>Normal</td>\n",
       "      <td>250000</td>\n",
       "    </tr>\n",
       "  </tbody>\n",
       "</table>\n",
       "</div>"
      ],
      "text/plain": [
       "    MSSubClass MSZoning  LotFrontage  LotArea Street Alley LotShape  \\\n",
       "Id                                                                    \n",
       "1           60       RL         65.0     8450   Pave   NaN      Reg   \n",
       "2           20       RL         80.0     9600   Pave   NaN      Reg   \n",
       "3           60       RL         68.0    11250   Pave   NaN      IR1   \n",
       "4           70       RL         60.0     9550   Pave   NaN      IR1   \n",
       "5           60       RL         84.0    14260   Pave   NaN      IR1   \n",
       "\n",
       "   LandContour Utilities LotConfig LandSlope Neighborhood Condition1  \\\n",
       "Id                                                                     \n",
       "1          Lvl    AllPub    Inside       Gtl      CollgCr       Norm   \n",
       "2          Lvl    AllPub       FR2       Gtl      Veenker      Feedr   \n",
       "3          Lvl    AllPub    Inside       Gtl      CollgCr       Norm   \n",
       "4          Lvl    AllPub    Corner       Gtl      Crawfor       Norm   \n",
       "5          Lvl    AllPub       FR2       Gtl      NoRidge       Norm   \n",
       "\n",
       "   Condition2 BldgType HouseStyle  OverallQual  OverallCond  YearBuilt  \\\n",
       "Id                                                                       \n",
       "1        Norm     1Fam     2Story            7            5       2003   \n",
       "2        Norm     1Fam     1Story            6            8       1976   \n",
       "3        Norm     1Fam     2Story            7            5       2001   \n",
       "4        Norm     1Fam     2Story            7            5       1915   \n",
       "5        Norm     1Fam     2Story            8            5       2000   \n",
       "\n",
       "    YearRemodAdd RoofStyle RoofMatl Exterior1st Exterior2nd MasVnrType  \\\n",
       "Id                                                                       \n",
       "1           2003     Gable  CompShg     VinylSd     VinylSd    BrkFace   \n",
       "2           1976     Gable  CompShg     MetalSd     MetalSd       None   \n",
       "3           2002     Gable  CompShg     VinylSd     VinylSd    BrkFace   \n",
       "4           1970     Gable  CompShg     Wd Sdng     Wd Shng       None   \n",
       "5           2000     Gable  CompShg     VinylSd     VinylSd    BrkFace   \n",
       "\n",
       "    MasVnrArea ExterQual ExterCond Foundation BsmtQual BsmtCond BsmtExposure  \\\n",
       "Id                                                                             \n",
       "1        196.0        Gd        TA      PConc       Gd       TA           No   \n",
       "2          0.0        TA        TA     CBlock       Gd       TA           Gd   \n",
       "3        162.0        Gd        TA      PConc       Gd       TA           Mn   \n",
       "4          0.0        TA        TA     BrkTil       TA       Gd           No   \n",
       "5        350.0        Gd        TA      PConc       Gd       TA           Av   \n",
       "\n",
       "   BsmtFinType1  BsmtFinSF1 BsmtFinType2  BsmtFinSF2  BsmtUnfSF  TotalBsmtSF  \\\n",
       "Id                                                                             \n",
       "1           GLQ         706          Unf           0        150          856   \n",
       "2           ALQ         978          Unf           0        284         1262   \n",
       "3           GLQ         486          Unf           0        434          920   \n",
       "4           ALQ         216          Unf           0        540          756   \n",
       "5           GLQ         655          Unf           0        490         1145   \n",
       "\n",
       "   Heating HeatingQC CentralAir Electrical  1stFlrSF  2ndFlrSF  LowQualFinSF  \\\n",
       "Id                                                                             \n",
       "1     GasA        Ex          Y      SBrkr       856       854             0   \n",
       "2     GasA        Ex          Y      SBrkr      1262         0             0   \n",
       "3     GasA        Ex          Y      SBrkr       920       866             0   \n",
       "4     GasA        Gd          Y      SBrkr       961       756             0   \n",
       "5     GasA        Ex          Y      SBrkr      1145      1053             0   \n",
       "\n",
       "    GrLivArea  BsmtFullBath  BsmtHalfBath  FullBath  HalfBath  BedroomAbvGr  \\\n",
       "Id                                                                            \n",
       "1        1710             1             0         2         1             3   \n",
       "2        1262             0             1         2         0             3   \n",
       "3        1786             1             0         2         1             3   \n",
       "4        1717             1             0         1         0             3   \n",
       "5        2198             1             0         2         1             4   \n",
       "\n",
       "    KitchenAbvGr KitchenQual  TotRmsAbvGrd Functional  Fireplaces FireplaceQu  \\\n",
       "Id                                                                              \n",
       "1              1          Gd             8        Typ           0         NaN   \n",
       "2              1          TA             6        Typ           1          TA   \n",
       "3              1          Gd             6        Typ           1          TA   \n",
       "4              1          Gd             7        Typ           1          Gd   \n",
       "5              1          Gd             9        Typ           1          TA   \n",
       "\n",
       "   GarageType  GarageYrBlt GarageFinish  GarageCars  GarageArea GarageQual  \\\n",
       "Id                                                                           \n",
       "1      Attchd       2003.0          RFn           2         548         TA   \n",
       "2      Attchd       1976.0          RFn           2         460         TA   \n",
       "3      Attchd       2001.0          RFn           2         608         TA   \n",
       "4      Detchd       1998.0          Unf           3         642         TA   \n",
       "5      Attchd       2000.0          RFn           3         836         TA   \n",
       "\n",
       "   GarageCond PavedDrive  WoodDeckSF  OpenPorchSF  EnclosedPorch  3SsnPorch  \\\n",
       "Id                                                                            \n",
       "1          TA          Y           0           61              0          0   \n",
       "2          TA          Y         298            0              0          0   \n",
       "3          TA          Y           0           42              0          0   \n",
       "4          TA          Y           0           35            272          0   \n",
       "5          TA          Y         192           84              0          0   \n",
       "\n",
       "    ScreenPorch  PoolArea PoolQC Fence MiscFeature  MiscVal  MoSold  YrSold  \\\n",
       "Id                                                                            \n",
       "1             0         0    NaN   NaN         NaN        0       2    2008   \n",
       "2             0         0    NaN   NaN         NaN        0       5    2007   \n",
       "3             0         0    NaN   NaN         NaN        0       9    2008   \n",
       "4             0         0    NaN   NaN         NaN        0       2    2006   \n",
       "5             0         0    NaN   NaN         NaN        0      12    2008   \n",
       "\n",
       "   SaleType SaleCondition  SalePrice  \n",
       "Id                                    \n",
       "1        WD        Normal     208500  \n",
       "2        WD        Normal     181500  \n",
       "3        WD        Normal     223500  \n",
       "4        WD       Abnorml     140000  \n",
       "5        WD        Normal     250000  "
      ]
     },
     "execution_count": 3,
     "metadata": {},
     "output_type": "execute_result"
    }
   ],
   "source": [
    "train_data.head()"
   ]
  },
  {
   "cell_type": "code",
   "execution_count": 5,
   "id": "dd3ca8f9",
   "metadata": {
    "scrolled": true
   },
   "outputs": [],
   "source": [
    "# split train data to training set & validation set.\n",
    "train_x, val_x, train_y, val_y = train_test_split(train_data.drop('SalePrice', axis=1), \n",
    "                                                  train_data['SalePrice'],\n",
    "                                                  test_size=0.2, random_state=0, shuffle=True)"
   ]
  },
  {
   "cell_type": "code",
   "execution_count": 7,
   "id": "fe33f6e4",
   "metadata": {
    "scrolled": true
   },
   "outputs": [
    {
     "name": "stdout",
     "output_type": "stream",
     "text": [
      "1510932307.6486251 38870.71272370273\n"
     ]
    },
    {
     "name": "stderr",
     "output_type": "stream",
     "text": [
      "/home/sid/Development/ds-workspace/feature-engineering/venv/lib/python3.8/site-packages/sklearn/linear_model/_coordinate_descent.py:607: ConvergenceWarning: Objective did not converge. You might want to increase the number of iterations. Duality gap: 9882280283.855686, tolerance: 719132949.9230078\n",
      "  model = cd_fast.sparse_enet_coordinate_descent(\n",
      "/home/sid/Development/ds-workspace/feature-engineering/venv/lib/python3.8/site-packages/sklearn/preprocessing/_encoders.py:170: UserWarning: Found unknown categories in columns [2, 3, 13, 18, 21, 25, 33, 35, 36, 37, 42, 43, 44, 45, 54, 61, 65, 66, 67, 68, 69, 70, 73] during transform. These unknown categories will be encoded as all zeros\n",
      "  warnings.warn(\n"
     ]
    }
   ],
   "source": [
    "# Build a baseline model with OHE & most frequent missing value imputer\n",
    "\n",
    "pipeline = Pipeline([    \n",
    "    ('imputer', SimpleImputer(strategy='most_frequent')),\n",
    "    ('encoder', OneHotEncoder(drop='first', handle_unknown='ignore', sparse=True)),\n",
    "#     ('regressor', RandomForestRegressor(n_estimators=50, max_depth=3, random_state=0)),\n",
    "    ('regressor', Lasso(random_state=0))\n",
    "])\n",
    "\n",
    "pipeline.fit(train_x, train_y)\n",
    "y_pred = pipeline.predict(val_x)\n",
    "mse = mean_squared_error(val_y, y_pred)\n",
    "print(mse, sqrt(mse))"
   ]
  },
  {
   "cell_type": "markdown",
   "id": "05f17dd7",
   "metadata": {},
   "source": [
    "# EDA"
   ]
  },
  {
   "cell_type": "code",
   "execution_count": 8,
   "id": "4f076ef9",
   "metadata": {
    "scrolled": true
   },
   "outputs": [
    {
     "data": {
      "image/png": "[encoded data removed]",
      "text/plain": [
       "<Figure size 432x288 with 1 Axes>"
      ]
     },
     "metadata": {
      "needs_background": "light"
     },
     "output_type": "display_data"
    }
   ],
   "source": [
    "# inspect distribution of target variable\n",
    "\n",
    "train_y.hist(bins=30)\n",
    "plt.ylabel('Sale Price')\n",
    "plt.xticks(rotation=45)\n",
    "plt.show()"
   ]
  },
  {
   "cell_type": "code",
   "execution_count": 9,
   "id": "7c315792",
   "metadata": {
    "scrolled": true
   },
   "outputs": [
    {
     "name": "stdout",
     "output_type": "stream",
     "text": [
      "There are 43 categorical variables.\n",
      "\n",
      "There are 36 numerical variables: \n",
      "\n",
      "There are 21 continuous variables : \n"
     ]
    }
   ],
   "source": [
    "# Find numerical, categorical & continuous variables.\n",
    "\n",
    "categorical_feat = [col for col in train_x.columns if train_x[col].dtype == 'O']\n",
    "\n",
    "print(f'There are {len(categorical_feat)} categorical variables.')\n",
    "print()\n",
    "numeric_feat = [col for col in train_x.columns if train_x[col].dtype != 'O']\n",
    "print(f'There are {len(numeric_feat)} numerical variables: ')\n",
    "print()\n",
    "# find continuous features\n",
    "continuous_feat = [feat for feat in numeric_feat if train_x[feat].nunique() > 15]\n",
    "print(f'There are {len(continuous_feat)} continuous variables : ')"
   ]
  },
  {
   "cell_type": "code",
   "execution_count": 11,
   "id": "70532c4c",
   "metadata": {
    "scrolled": true
   },
   "outputs": [
    {
     "data": {
      "text/plain": [
       "PoolQC          0.995205\n",
       "MiscFeature     0.963014\n",
       "Alley           0.937671\n",
       "Fence           0.807534\n",
       "FireplaceQu     0.472603\n",
       "LotFrontage     0.177397\n",
       "GarageType      0.055479\n",
       "GarageYrBlt     0.055479\n",
       "GarageFinish    0.055479\n",
       "GarageQual      0.055479\n",
       "GarageCond      0.055479\n",
       "BsmtExposure    0.026027\n",
       "BsmtFinType2    0.026027\n",
       "BsmtFinType1    0.025342\n",
       "BsmtCond        0.025342\n",
       "BsmtQual        0.025342\n",
       "MasVnrArea      0.005479\n",
       "MasVnrType      0.005479\n",
       "Electrical      0.000685\n",
       "dtype: float64"
      ]
     },
     "execution_count": 11,
     "metadata": {},
     "output_type": "execute_result"
    }
   ],
   "source": [
    "# explore missing data\n",
    "\n",
    "missing_data_cols = train_data.columns[train_data.isnull().any()]\n",
    "missing_data_sums = train_data[missing_data_cols].isnull().sum()\n",
    "(missing_data_sums / len(train_data)).sort_values(ascending=False)"
   ]
  },
  {
   "cell_type": "markdown",
   "id": "80bff7da",
   "metadata": {},
   "source": [
    "It's clear that `['PoolQC', 'MiscFeature', 'Alley']` has more than 90% of missing data so it doesn't provide any pattern to predict the SalePrice so, we'll remove them too. Let's inspect other variables more deeply."
   ]
  },
  {
   "cell_type": "code",
   "execution_count": 12,
   "id": "167fadf0",
   "metadata": {
    "scrolled": true
   },
   "outputs": [
    {
     "data": {
      "image/png": "[encoded data removed]",
      "text/plain": [
       "<Figure size 720x360 with 4 Axes>"
      ]
     },
     "metadata": {
      "needs_background": "light"
     },
     "output_type": "display_data"
    }
   ],
   "source": [
    "# lets visualize distribution of numeric missing features.\n",
    "\n",
    "numeric_missing_cols = [feat for feat in numeric_feat if feat in missing_data_cols]\n",
    "categorical_missing_cols = [feat for feat in categorical_feat if feat in missing_data_cols]\n",
    "train_x[numeric_missing_cols].hist(bins=30, figsize=(10, 5))\n",
    "plt.show()"
   ]
  },
  {
   "cell_type": "code",
   "execution_count": 13,
   "id": "4eaccb88",
   "metadata": {
    "scrolled": true
   },
   "outputs": [
    {
     "data": {
      "image/png": "[encoded data removed]",
      "text/plain": [
       "<Figure size 720x216 with 2 Axes>"
      ]
     },
     "metadata": {
      "needs_background": "light"
     },
     "output_type": "display_data"
    }
   ],
   "source": [
    "# using ffill to impute missing data for `LotFrontage` feature\n",
    "\n",
    "tmp_series = train_x['LotFrontage'].fillna(method='ffill')\n",
    "\n",
    "fig, axes = plt.subplots(1, 2)\n",
    "axes[0].tick_params(labelrotation=45)\n",
    "axes[1].tick_params(labelrotation=45)\n",
    "\n",
    "tmp_series.hist(bins=15, figsize=(5, 5), ax=axes[0])\n",
    "plt.ylabel('Frequency')\n",
    "plt.xlabel('LotFrontage')\n",
    "\n",
    "train_x['LotFrontage'].hist(bins=15, figsize=(10, 3), ax=axes[1])\n",
    "plt.ylabel('Frequency')\n",
    "plt.xlabel('LotFrontage')\n",
    "plt.show()\n"
   ]
  },
  {
   "cell_type": "markdown",
   "id": "74e4339f",
   "metadata": {},
   "source": [
    "The distributions for 'LotFrontage' before & after `forward fill` data imputation method are same so we'll use this method."
   ]
  },
  {
   "cell_type": "code",
   "execution_count": 14,
   "id": "66af89ce",
   "metadata": {
    "scrolled": true
   },
   "outputs": [
    {
     "data": {
      "text/plain": [
       "GarageCars    0\n",
       "GarageArea    0\n",
       "dtype: int64"
      ]
     },
     "execution_count": 14,
     "metadata": {},
     "output_type": "execute_result"
    }
   ],
   "source": [
    "train_x[['GarageYrBlt', 'GarageType', 'GarageFinish', 'GarageCars', 'GarageArea', 'GarageQual', 'GarageCond']].isnull().sum()\n",
    "\n",
    "train_x[['GarageCars', 'GarageArea']].isnull().sum()"
   ]
  },
  {
   "cell_type": "markdown",
   "id": "109b1559",
   "metadata": {},
   "source": [
    "Missing values in feature `GarageYrBlt` is due to the absence of a Garage in that property. In that case we'll impute constant value zero to that field and add a missing category to missing values in other garage related categorical variables & those are `'GarageType', 'GarageFinish', 'GarageCars', 'GarageArea', 'GarageQual', 'GarageCond'`"
   ]
  },
  {
   "cell_type": "code",
   "execution_count": 15,
   "id": "0864800b",
   "metadata": {
    "scrolled": false
   },
   "outputs": [
    {
     "data": {
      "text/plain": [
       "BsmtExposure    28\n",
       "BsmtFinType2    29\n",
       "BsmtFinType1    28\n",
       "BsmtCond        28\n",
       "BsmtQual        28\n",
       "dtype: int64"
      ]
     },
     "execution_count": 15,
     "metadata": {},
     "output_type": "execute_result"
    }
   ],
   "source": [
    "train_x[['BsmtExposure', 'BsmtFinType2', 'BsmtFinType1', 'BsmtCond', 'BsmtQual']].isnull().sum()"
   ]
  },
  {
   "cell_type": "markdown",
   "id": "a8b5ea12",
   "metadata": {},
   "source": [
    "Same thing applicable to Basement related features also, `'BsmtExposure', 'BsmtFinType2', 'BsmtFinType1', 'BsmtCond', 'BsmtQual'`. The properties that doesnt hv a basement has missing values. We'll use a `missing` label for data imputation."
   ]
  },
  {
   "cell_type": "code",
   "execution_count": 16,
   "id": "9e903a4c",
   "metadata": {
    "scrolled": true
   },
   "outputs": [
    {
     "data": {
      "text/plain": [
       "MasVnrType    6\n",
       "MasVnrArea    6\n",
       "dtype: int64"
      ]
     },
     "execution_count": 16,
     "metadata": {},
     "output_type": "execute_result"
    }
   ],
   "source": [
    "train_x[['MasVnrType', 'MasVnrArea']].isnull().sum()"
   ]
  },
  {
   "cell_type": "markdown",
   "id": "46b3dff5",
   "metadata": {},
   "source": [
    "We'll also use the same approach for `MasVnr*` features, both `'MasVnrType', 'MasVnrArea'` are missing at the same time so we'll impute `0` for `'MasVnrArea'` & add a `missing` label to `MasVnrType` categorical feature."
   ]
  },
  {
   "cell_type": "code",
   "execution_count": 17,
   "id": "a9c3030c",
   "metadata": {
    "scrolled": true
   },
   "outputs": [
    {
     "name": "stdout",
     "output_type": "stream",
     "text": [
      "Missing data count: 551\n",
      "No of properties with zero fireplaces: 551\n"
     ]
    },
    {
     "data": {
      "text/html": [
       "<div>\n",
       "<style scoped>\n",
       "    .dataframe tbody tr th:only-of-type {\n",
       "        vertical-align: middle;\n",
       "    }\n",
       "\n",
       "    .dataframe tbody tr th {\n",
       "        vertical-align: top;\n",
       "    }\n",
       "\n",
       "    .dataframe thead th {\n",
       "        text-align: right;\n",
       "    }\n",
       "</style>\n",
       "<table border=\"1\" class=\"dataframe\">\n",
       "  <thead>\n",
       "    <tr style=\"text-align: right;\">\n",
       "      <th></th>\n",
       "      <th>Fireplaces</th>\n",
       "      <th>FireplaceQu</th>\n",
       "    </tr>\n",
       "    <tr>\n",
       "      <th>Id</th>\n",
       "      <th></th>\n",
       "      <th></th>\n",
       "    </tr>\n",
       "  </thead>\n",
       "  <tbody>\n",
       "    <tr>\n",
       "      <th>871</th>\n",
       "      <td>0</td>\n",
       "      <td>NaN</td>\n",
       "    </tr>\n",
       "    <tr>\n",
       "      <th>93</th>\n",
       "      <td>0</td>\n",
       "      <td>NaN</td>\n",
       "    </tr>\n",
       "    <tr>\n",
       "      <th>1455</th>\n",
       "      <td>0</td>\n",
       "      <td>NaN</td>\n",
       "    </tr>\n",
       "    <tr>\n",
       "      <th>960</th>\n",
       "      <td>0</td>\n",
       "      <td>NaN</td>\n",
       "    </tr>\n",
       "    <tr>\n",
       "      <th>76</th>\n",
       "      <td>0</td>\n",
       "      <td>NaN</td>\n",
       "    </tr>\n",
       "  </tbody>\n",
       "</table>\n",
       "</div>"
      ],
      "text/plain": [
       "      Fireplaces FireplaceQu\n",
       "Id                          \n",
       "871            0         NaN\n",
       "93             0         NaN\n",
       "1455           0         NaN\n",
       "960            0         NaN\n",
       "76             0         NaN"
      ]
     },
     "execution_count": 17,
     "metadata": {},
     "output_type": "execute_result"
    }
   ],
   "source": [
    "# Inspect missing values for 'FireplaceQu' feature\n",
    "# train_x[train_x['FireplaceQu'].isnull()]['Fireplaces'].count(), train_x['FireplaceQu'].isnull().sum()\n",
    "\n",
    "print('Missing data count: ' + str(train_x['FireplaceQu'].isnull().sum()))\n",
    "\n",
    "fireplace_count = train_x[train_x['FireplaceQu'].isnull()]['Fireplaces'].count()\n",
    "\n",
    "print('No of properties with zero fireplaces: ' + str(fireplace_count))\n",
    "\n",
    "train_x[train_x['FireplaceQu'].isnull()][['Fireplaces', 'FireplaceQu']].head()"
   ]
  },
  {
   "cell_type": "markdown",
   "id": "0867a469",
   "metadata": {},
   "source": [
    "551 of `'FireplaceQu'` feature values are missing, this is due to absence of `Fireplace` in such properties. So we'll recognize such values of `'FireplaceQu'` feature with `'Missing'` labels."
   ]
  },
  {
   "cell_type": "code",
   "execution_count": 18,
   "id": "61b367c9",
   "metadata": {
    "scrolled": true
   },
   "outputs": [
    {
     "name": "stdout",
     "output_type": "stream",
     "text": [
      "Percentage of property with no fence: 0.8167808219178082\n"
     ]
    },
    {
     "data": {
      "image/png": "[encoded data removed]",
      "text/plain": [
       "<Figure size 432x288 with 1 Axes>"
      ]
     },
     "metadata": {
      "needs_background": "light"
     },
     "output_type": "display_data"
    },
    {
     "data": {
      "text/plain": [
       "<AxesSubplot:xlabel='Fence'>"
      ]
     },
     "execution_count": 18,
     "metadata": {},
     "output_type": "execute_result"
    },
    {
     "data": {
      "image/png": "[encoded data removed]",
      "text/plain": [
       "<Figure size 432x288 with 1 Axes>"
      ]
     },
     "metadata": {
      "needs_background": "light"
     },
     "output_type": "display_data"
    }
   ],
   "source": [
    "# Inspect 'Fence' feature for missing values.\n",
    "\n",
    "print('Percentage of property with no fence: ' + str(train_x['Fence'].isnull().sum() / len(train_x)))\n",
    "\n",
    "tmp_series = train_x['Fence'].fillna('Missing')\n",
    "(tmp_series.value_counts() / len(train_x)).plot.bar()\n",
    "plt.ylabel('Percentage')\n",
    "plt.xlabel('Type of Fences')\n",
    "plt.show()\n",
    "\n",
    "pd.concat([tmp_series, train_y.rename('SalePrice')], axis=1).groupby('Fence')['SalePrice'].median().plot.bar()"
   ]
  },
  {
   "cell_type": "markdown",
   "id": "657ed740",
   "metadata": {},
   "source": [
    "Missing label will be added to missing values and a missing indicator too."
   ]
  },
  {
   "cell_type": "code",
   "execution_count": 19,
   "id": "a7861088",
   "metadata": {
    "scrolled": true
   },
   "outputs": [
    {
     "data": {
      "image/png": "[encoded data removed]",
      "text/plain": [
       "<Figure size 1296x216 with 1 Axes>"
      ]
     },
     "metadata": {
      "needs_background": "light"
     },
     "output_type": "display_data"
    }
   ],
   "source": [
    "# Inspect cardinality categorical features.\n",
    "\n",
    "plt.axhline(y=10, color='r', linestyle='-')\n",
    "train_x[categorical_feat].fillna('NA').nunique().plot(figsize=(18,3), rot=45, kind='bar')\n",
    "plt.show()\n",
    "# categorical_feat"
   ]
  },
  {
   "cell_type": "code",
   "execution_count": 20,
   "id": "aaecf920",
   "metadata": {
    "scrolled": true
   },
   "outputs": [
    {
     "data": {
      "image/png": "[encoded data removed]",
      "text/plain": [
       "<Figure size 432x288 with 1 Axes>"
      ]
     },
     "metadata": {
      "needs_background": "light"
     },
     "output_type": "display_data"
    },
    {
     "data": {
      "image/png": "[encoded data removed]",
      "text/plain": [
       "<Figure size 432x288 with 1 Axes>"
      ]
     },
     "metadata": {
      "needs_background": "light"
     },
     "output_type": "display_data"
    },
    {
     "data": {
      "image/png": "[encoded data removed]",
      "text/plain": [
       "<Figure size 432x288 with 1 Axes>"
      ]
     },
     "metadata": {
      "needs_background": "light"
     },
     "output_type": "display_data"
    },
    {
     "data": {
      "image/png": "[encoded data removed]",
      "text/plain": [
       "<Figure size 432x288 with 1 Axes>"
      ]
     },
     "metadata": {
      "needs_background": "light"
     },
     "output_type": "display_data"
    },
    {
     "data": {
      "image/png": "[encoded data removed]",
      "text/plain": [
       "<Figure size 432x288 with 1 Axes>"
      ]
     },
     "metadata": {
      "needs_background": "light"
     },
     "output_type": "display_data"
    },
    {
     "data": {
      "image/png": "[encoded data removed]",
      "text/plain": [
       "<Figure size 432x288 with 1 Axes>"
      ]
     },
     "metadata": {
      "needs_background": "light"
     },
     "output_type": "display_data"
    },
    {
     "data": {
      "image/png": "[encoded data removed]",
      "text/plain": [
       "<Figure size 432x288 with 1 Axes>"
      ]
     },
     "metadata": {
      "needs_background": "light"
     },
     "output_type": "display_data"
    },
    {
     "data": {
      "image/png": "[encoded data removed]",
      "text/plain": [
       "<Figure size 432x288 with 1 Axes>"
      ]
     },
     "metadata": {
      "needs_background": "light"
     },
     "output_type": "display_data"
    },
    {
     "data": {
      "image/png": "[encoded data removed]",
      "text/plain": [
       "<Figure size 432x288 with 1 Axes>"
      ]
     },
     "metadata": {
      "needs_background": "light"
     },
     "output_type": "display_data"
    },
    {
     "data": {
      "image/png": "[encoded data removed]",
      "text/plain": [
       "<Figure size 432x288 with 1 Axes>"
      ]
     },
     "metadata": {
      "needs_background": "light"
     },
     "output_type": "display_data"
    },
    {
     "data": {
      "image/png": "[encoded data removed]",
      "text/plain": [
       "<Figure size 432x288 with 1 Axes>"
      ]
     },
     "metadata": {
      "needs_background": "light"
     },
     "output_type": "display_data"
    },
    {
     "data": {
      "image/png": "[encoded data removed]",
      "text/plain": [
       "<Figure size 432x288 with 1 Axes>"
      ]
     },
     "metadata": {
      "needs_background": "light"
     },
     "output_type": "display_data"
    },
    {
     "data": {
      "image/png": "[encoded data removed]",
      "text/plain": [
       "<Figure size 432x288 with 1 Axes>"
      ]
     },
     "metadata": {
      "needs_background": "light"
     },
     "output_type": "display_data"
    },
    {
     "data": {
      "image/png": "[encoded data removed]",
      "text/plain": [
       "<Figure size 432x288 with 1 Axes>"
      ]
     },
     "metadata": {
      "needs_background": "light"
     },
     "output_type": "display_data"
    },
    {
     "data": {
      "image/png": "[encoded data removed]",
      "text/plain": [
       "<Figure size 432x288 with 1 Axes>"
      ]
     },
     "metadata": {
      "needs_background": "light"
     },
     "output_type": "display_data"
    },
    {
     "data": {
      "image/png": "[encoded data removed]",
      "text/plain": [
       "<Figure size 432x288 with 1 Axes>"
      ]
     },
     "metadata": {
      "needs_background": "light"
     },
     "output_type": "display_data"
    },
    {
     "data": {
      "image/png": "[encoded data removed]",
      "text/plain": [
       "<Figure size 432x288 with 1 Axes>"
      ]
     },
     "metadata": {
      "needs_background": "light"
     },
     "output_type": "display_data"
    },
    {
     "data": {
      "image/png": "[encoded data removed]",
      "text/plain": [
       "<Figure size 432x288 with 1 Axes>"
      ]
     },
     "metadata": {
      "needs_background": "light"
     },
     "output_type": "display_data"
    },
    {
     "data": {
      "image/png": "[encoded data removed]",
      "text/plain": [
       "<Figure size 432x288 with 1 Axes>"
      ]
     },
     "metadata": {
      "needs_background": "light"
     },
     "output_type": "display_data"
    },
    {
     "data": {
      "image/png": "[encoded data removed]",
      "text/plain": [
       "<Figure size 432x288 with 1 Axes>"
      ]
     },
     "metadata": {
      "needs_background": "light"
     },
     "output_type": "display_data"
    },
    {
     "data": {
      "image/png": "[encoded data removed]",
      "text/plain": [
       "<Figure size 432x288 with 1 Axes>"
      ]
     },
     "metadata": {
      "needs_background": "light"
     },
     "output_type": "display_data"
    },
    {
     "data": {
      "image/png": "[encoded data removed]",
      "text/plain": [
       "<Figure size 432x288 with 1 Axes>"
      ]
     },
     "metadata": {
      "needs_background": "light"
     },
     "output_type": "display_data"
    },
    {
     "data": {
      "image/png": "[encoded data removed]",
      "text/plain": [
       "<Figure size 432x288 with 1 Axes>"
      ]
     },
     "metadata": {
      "needs_background": "light"
     },
     "output_type": "display_data"
    },
    {
     "data": {
      "image/png": "[encoded data removed]",
      "text/plain": [
       "<Figure size 432x288 with 1 Axes>"
      ]
     },
     "metadata": {
      "needs_background": "light"
     },
     "output_type": "display_data"
    },
    {
     "data": {
      "image/png": "[encoded data removed]",
      "text/plain": [
       "<Figure size 432x288 with 1 Axes>"
      ]
     },
     "metadata": {
      "needs_background": "light"
     },
     "output_type": "display_data"
    },
    {
     "data": {
      "image/png": "[encoded data removed]",
      "text/plain": [
       "<Figure size 432x288 with 1 Axes>"
      ]
     },
     "metadata": {
      "needs_background": "light"
     },
     "output_type": "display_data"
    },
    {
     "data": {
      "image/png": "[encoded data removed]",
      "text/plain": [
       "<Figure size 432x288 with 1 Axes>"
      ]
     },
     "metadata": {
      "needs_background": "light"
     },
     "output_type": "display_data"
    },
    {
     "data": {
      "image/png": "[encoded data removed]",
      "text/plain": [
       "<Figure size 432x288 with 1 Axes>"
      ]
     },
     "metadata": {
      "needs_background": "light"
     },
     "output_type": "display_data"
    },
    {
     "data": {
      "image/png": "[encoded data removed]",
      "text/plain": [
       "<Figure size 432x288 with 1 Axes>"
      ]
     },
     "metadata": {
      "needs_background": "light"
     },
     "output_type": "display_data"
    },
    {
     "data": {
      "image/png": "[encoded data removed]",
      "text/plain": [
       "<Figure size 432x288 with 1 Axes>"
      ]
     },
     "metadata": {
      "needs_background": "light"
     },
     "output_type": "display_data"
    },
    {
     "data": {
      "image/png": "[encoded data removed]",
      "text/plain": [
       "<Figure size 432x288 with 1 Axes>"
      ]
     },
     "metadata": {
      "needs_background": "light"
     },
     "output_type": "display_data"
    },
    {
     "data": {
      "image/png": "[encoded data removed]",
      "text/plain": [
       "<Figure size 432x288 with 1 Axes>"
      ]
     },
     "metadata": {
      "needs_background": "light"
     },
     "output_type": "display_data"
    },
    {
     "data": {
      "image/png": "[encoded data removed]",
      "text/plain": [
       "<Figure size 432x288 with 1 Axes>"
      ]
     },
     "metadata": {
      "needs_background": "light"
     },
     "output_type": "display_data"
    },
    {
     "data": {
      "image/png": "[encoded data removed]",
      "text/plain": [
       "<Figure size 432x288 with 1 Axes>"
      ]
     },
     "metadata": {
      "needs_background": "light"
     },
     "output_type": "display_data"
    },
    {
     "data": {
      "image/png": "[encoded data removed]",
      "text/plain": [
       "<Figure size 432x288 with 1 Axes>"
      ]
     },
     "metadata": {
      "needs_background": "light"
     },
     "output_type": "display_data"
    },
    {
     "data": {
      "image/png": "[encoded data removed]",
      "text/plain": [
       "<Figure size 432x288 with 1 Axes>"
      ]
     },
     "metadata": {
      "needs_background": "light"
     },
     "output_type": "display_data"
    },
    {
     "data": {
      "image/png": "[encoded data removed]",
      "text/plain": [
       "<Figure size 432x288 with 1 Axes>"
      ]
     },
     "metadata": {
      "needs_background": "light"
     },
     "output_type": "display_data"
    },
    {
     "data": {
      "image/png": "[encoded data removed]",
      "text/plain": [
       "<Figure size 432x288 with 1 Axes>"
      ]
     },
     "metadata": {
      "needs_background": "light"
     },
     "output_type": "display_data"
    },
    {
     "data": {
      "image/png": "[encoded data removed]",
      "text/plain": [
       "<Figure size 432x288 with 1 Axes>"
      ]
     },
     "metadata": {
      "needs_background": "light"
     },
     "output_type": "display_data"
    },
    {
     "data": {
      "image/png": "[encoded data removed]",
      "text/plain": [
       "<Figure size 432x288 with 1 Axes>"
      ]
     },
     "metadata": {
      "needs_background": "light"
     },
     "output_type": "display_data"
    },
    {
     "data": {
      "image/png": "[encoded data removed]",
      "text/plain": [
       "<Figure size 432x288 with 1 Axes>"
      ]
     },
     "metadata": {
      "needs_background": "light"
     },
     "output_type": "display_data"
    },
    {
     "data": {
      "image/png": "[encoded data removed]",
      "text/plain": [
       "<Figure size 432x288 with 1 Axes>"
      ]
     },
     "metadata": {
      "needs_background": "light"
     },
     "output_type": "display_data"
    },
    {
     "data": {
      "image/png": "[encoded data removed]",
      "text/plain": [
       "<Figure size 432x288 with 1 Axes>"
      ]
     },
     "metadata": {
      "needs_background": "light"
     },
     "output_type": "display_data"
    }
   ],
   "source": [
    "# lets visualize the rare labels.\n",
    "\n",
    "def visualize_rare_labels(df, feat, threshold=0.05):\n",
    "    tmp_series = pd.Series(df[feat].value_counts() / len(df))\n",
    "#     if (len(tmp_series[tmp_series < threshold]) > 1):\n",
    "    fig = tmp_series.sort_values(ascending=False).plot.bar()\n",
    "    fig.axhline(y = threshold, color='red')\n",
    "    fig.set_xlabel(feat)\n",
    "    fig.set_ylabel('Percentage of data')\n",
    "    plt.show()\n",
    "    \n",
    "for feat in categorical_feat:      \n",
    "    visualize_rare_labels(train_x, feat, 0.05)"
   ]
  },
  {
   "cell_type": "markdown",
   "id": "6cbf5349",
   "metadata": {},
   "source": [
    "We have to use rare label encoding to deal with high cardinality & rare labels in categorical features."
   ]
  },
  {
   "cell_type": "code",
   "execution_count": null,
   "id": "478e2e3d",
   "metadata": {},
   "outputs": [],
   "source": [
    "class OrderedOrdinalEncoding(BaseEstimator, TransformerMixin):\n",
    "    \n",
    "    def fit(self, x, y):"
   ]
  },
  {
   "cell_type": "code",
   "execution_count": 85,
   "id": "1ab85c15",
   "metadata": {},
   "outputs": [],
   "source": [
    "# split train data to training set & validation set.\n",
    "train_x, val_x, train_y, val_y = train_test_split(train_data.drop('SalePrice', axis=1), \n",
    "                                                  train_data['SalePrice'],\n",
    "                                                  test_size=0.2, random_state=0)\n",
    "\n",
    "# Preprocess, impute, encode\n",
    "\n",
    "class PandasSimpleImputer(SimpleImputer):\n",
    "    \"\"\"A wrapper around `SimpleImputer` to return data frames with columns.\n",
    "    \"\"\"\n",
    "    def fit(self, X, y=None):\n",
    "        self.columns = X.columns\n",
    "        return super().fit(X, y)\n",
    "\n",
    "    def transform(self, X):\n",
    "        return pd.DataFrame(super().transform(X), columns=self.columns)\n",
    "\n",
    "\n",
    "# custom imputer for features 'LotFrontage', 'MasVnrArea' & 'GarageYrBlt'\n",
    "def custom_data_imputer(x: pd.DataFrame):\n",
    "    \n",
    "    # Adding missing indicator\n",
    "    x['LotFrontage_missing_ind'] = np.where(np.isnan(x['LotFrontage']), 0, 1)\n",
    "    x['MasVnrArea_missing_ind'] = np.where(np.isnan(x['MasVnrArea']), 0, 1)\n",
    "    x['GarageYrBlt_missing_ind'] = np.where(np.isnan(x['GarageYrBlt']), 0, 1)\n",
    "    \n",
    "    x['LotFrontage'] = x['LotFrontage'].fillna(method='ffill')    \n",
    "    if x['LotFrontage'].isnull().sum() > 0:\n",
    "        x['LotFrontage'] = x['LotFrontage'].fillna(method='bfill')    \n",
    "    \n",
    "    x['MasVnrArea'] = x['MasVnrArea'].fillna(0)\n",
    "    x['GarageYrBlt'] = x['GarageYrBlt'].fillna(0)    \n",
    "    return x\n",
    "\n",
    "\n",
    "# get data transformer pipeline\n",
    "numeric_feat = [col for col in train_x.columns if train_x[col].dtype != 'O']\n",
    "categorical_feat = [col for col in train_x.columns if train_x[col].dtype == 'O']\n",
    "# continuous_feat = [feat for feat in numeric_feat if x[feat].nunique() > 15]\n",
    "\n",
    "\n",
    "# for feat in categorical_feat:\n",
    "#     train_x[feat] = train_x[feat].astype(str)\n",
    "\n",
    "categorical_data_preprocess = Pipeline(steps=[\n",
    "    ('categorical_data_imputer', SimpleImputer(strategy='constant', fill_value='Missing', add_indicator=True)),\n",
    "    ('rare_label_encoding', RareLabelEncoder(tol=0.02, n_categories=3)),\n",
    "    ('ordinal_encoding', FeatureEngineOrdinalEncoding(handle_unknown='use_encoded_value', unknown_value=-1))\n",
    "#     ('ohe', OneHotEncoder())\n",
    "])\n",
    "\n",
    "numeric_data_preprocess = Pipeline(steps=[\n",
    "\n",
    "    # adding imputer in case test data contains any missing value\n",
    "    ('simple_imputer', PandasSimpleImputer(strategy='median')),\n",
    "    ('discretizer', KBinsDiscretizer(n_bins=75, encode='ordinal', strategy='uniform')),\n",
    "    ('scaler', StandardScaler()),\n",
    "#     ('scaler', MinMaxScaler())    \n",
    "#     ('var_transformer', PowerTransformer(method='yeo-johnson'))\n",
    "])\n",
    "\n",
    "transformer = ColumnTransformer(transformers=[\n",
    "    ('categorical_preprocess', categorical_data_preprocess, categorical_feat),\n",
    "    ('numeric_data_preprocess', numeric_data_preprocess, numeric_feat)\n",
    "], remainder='passthrough')"
   ]
  },
  {
   "cell_type": "code",
   "execution_count": 86,
   "id": "c19d9f88",
   "metadata": {
    "scrolled": false
   },
   "outputs": [
    {
     "name": "stdout",
     "output_type": "stream",
     "text": [
      "MSE: 1686436389.1467612 RMSE: 41066.24391330136 R2: 0.7557959703820333\n"
     ]
    }
   ],
   "source": [
    "# create pipeline for missing value imputation\n",
    "\n",
    "warnings.filterwarnings('ignore')\n",
    "\n",
    "model = Pipeline(steps=[\n",
    "    ('preprocessor', transformer),\n",
    "    ('regressor', Lasso(random_state=0))\n",
    "])\n",
    "\n",
    "# model = TransformedTargetRegressor(regressor=pipeline, func=np.log, inverse_func=np.exp)\n",
    "# model = TransformedTargetRegressor(regressor=model)\n",
    "\n",
    "x = custom_data_imputer(train_x)\n",
    "x.head()\n",
    "model.fit(x, train_y)\n",
    "\n",
    "x = custom_data_imputer(val_x)\n",
    "y_pred = model.predict(x)\n",
    "\n",
    "mse = mean_squared_error(val_y, y_pred)\n",
    "r2 = r2_score(val_y, y_pred)\n",
    "\n",
    "print('MSE: ' + str(mse), 'RMSE: ' + str(sqrt(mse)), 'R2: ' + str(r2))\n",
    "# print('Successfully beaten sole\\'s model')\n",
    "# pipeline"
   ]
  },
  {
   "cell_type": "code",
   "execution_count": 80,
   "id": "a8a5cd36",
   "metadata": {},
   "outputs": [
    {
     "name": "stderr",
     "output_type": "stream",
     "text": [
      "/home/sid/Development/ds-workspace/feature-engineering/venv/lib/python3.8/site-packages/feature_engine/encoding/rare_label.py:179: UserWarning: The number of unique categories for variable 1 is less than that indicated in n_categories. Thus, all categories will be considered frequent\n",
      "  warnings.warn(\n",
      "/home/sid/Development/ds-workspace/feature-engineering/venv/lib/python3.8/site-packages/feature_engine/encoding/rare_label.py:179: UserWarning: The number of unique categories for variable 2 is less than that indicated in n_categories. Thus, all categories will be considered frequent\n",
      "  warnings.warn(\n",
      "/home/sid/Development/ds-workspace/feature-engineering/venv/lib/python3.8/site-packages/feature_engine/encoding/rare_label.py:179: UserWarning: The number of unique categories for variable 5 is less than that indicated in n_categories. Thus, all categories will be considered frequent\n",
      "  warnings.warn(\n",
      "/home/sid/Development/ds-workspace/feature-engineering/venv/lib/python3.8/site-packages/feature_engine/encoding/rare_label.py:179: UserWarning: The number of unique categories for variable 7 is less than that indicated in n_categories. Thus, all categories will be considered frequent\n",
      "  warnings.warn(\n",
      "/home/sid/Development/ds-workspace/feature-engineering/venv/lib/python3.8/site-packages/feature_engine/encoding/rare_label.py:179: UserWarning: The number of unique categories for variable 28 is less than that indicated in n_categories. Thus, all categories will be considered frequent\n",
      "  warnings.warn(\n",
      "/home/sid/Development/ds-workspace/feature-engineering/venv/lib/python3.8/site-packages/feature_engine/encoding/rare_label.py:179: UserWarning: The number of unique categories for variable 37 is less than that indicated in n_categories. Thus, all categories will be considered frequent\n",
      "  warnings.warn(\n",
      "/home/sid/Development/ds-workspace/feature-engineering/venv/lib/python3.8/site-packages/feature_engine/encoding/rare_label.py:179: UserWarning: The number of unique categories for variable 38 is less than that indicated in n_categories. Thus, all categories will be considered frequent\n",
      "  warnings.warn(\n",
      "/home/sid/Development/ds-workspace/feature-engineering/venv/lib/python3.8/site-packages/feature_engine/encoding/rare_label.py:179: UserWarning: The number of unique categories for variable 43 is less than that indicated in n_categories. Thus, all categories will be considered frequent\n",
      "  warnings.warn(\n",
      "/home/sid/Development/ds-workspace/feature-engineering/venv/lib/python3.8/site-packages/feature_engine/encoding/rare_label.py:179: UserWarning: The number of unique categories for variable 44 is less than that indicated in n_categories. Thus, all categories will be considered frequent\n",
      "  warnings.warn(\n",
      "/home/sid/Development/ds-workspace/feature-engineering/venv/lib/python3.8/site-packages/feature_engine/encoding/rare_label.py:179: UserWarning: The number of unique categories for variable 45 is less than that indicated in n_categories. Thus, all categories will be considered frequent\n",
      "  warnings.warn(\n",
      "/home/sid/Development/ds-workspace/feature-engineering/venv/lib/python3.8/site-packages/feature_engine/encoding/rare_label.py:179: UserWarning: The number of unique categories for variable 46 is less than that indicated in n_categories. Thus, all categories will be considered frequent\n",
      "  warnings.warn(\n",
      "/home/sid/Development/ds-workspace/feature-engineering/venv/lib/python3.8/site-packages/feature_engine/encoding/rare_label.py:179: UserWarning: The number of unique categories for variable 47 is less than that indicated in n_categories. Thus, all categories will be considered frequent\n",
      "  warnings.warn(\n",
      "/home/sid/Development/ds-workspace/feature-engineering/venv/lib/python3.8/site-packages/feature_engine/encoding/rare_label.py:179: UserWarning: The number of unique categories for variable 48 is less than that indicated in n_categories. Thus, all categories will be considered frequent\n",
      "  warnings.warn(\n",
      "/home/sid/Development/ds-workspace/feature-engineering/venv/lib/python3.8/site-packages/feature_engine/encoding/rare_label.py:179: UserWarning: The number of unique categories for variable 49 is less than that indicated in n_categories. Thus, all categories will be considered frequent\n",
      "  warnings.warn(\n",
      "/home/sid/Development/ds-workspace/feature-engineering/venv/lib/python3.8/site-packages/feature_engine/encoding/rare_label.py:179: UserWarning: The number of unique categories for variable 50 is less than that indicated in n_categories. Thus, all categories will be considered frequent\n",
      "  warnings.warn(\n",
      "/home/sid/Development/ds-workspace/feature-engineering/venv/lib/python3.8/site-packages/feature_engine/encoding/rare_label.py:179: UserWarning: The number of unique categories for variable 51 is less than that indicated in n_categories. Thus, all categories will be considered frequent\n",
      "  warnings.warn(\n",
      "/home/sid/Development/ds-workspace/feature-engineering/venv/lib/python3.8/site-packages/feature_engine/encoding/rare_label.py:179: UserWarning: The number of unique categories for variable 52 is less than that indicated in n_categories. Thus, all categories will be considered frequent\n",
      "  warnings.warn(\n",
      "/home/sid/Development/ds-workspace/feature-engineering/venv/lib/python3.8/site-packages/feature_engine/encoding/rare_label.py:179: UserWarning: The number of unique categories for variable 53 is less than that indicated in n_categories. Thus, all categories will be considered frequent\n",
      "  warnings.warn(\n",
      "/home/sid/Development/ds-workspace/feature-engineering/venv/lib/python3.8/site-packages/feature_engine/encoding/rare_label.py:179: UserWarning: The number of unique categories for variable 54 is less than that indicated in n_categories. Thus, all categories will be considered frequent\n",
      "  warnings.warn(\n",
      "/home/sid/Development/ds-workspace/feature-engineering/venv/lib/python3.8/site-packages/feature_engine/encoding/rare_label.py:179: UserWarning: The number of unique categories for variable 55 is less than that indicated in n_categories. Thus, all categories will be considered frequent\n",
      "  warnings.warn(\n",
      "/home/sid/Development/ds-workspace/feature-engineering/venv/lib/python3.8/site-packages/feature_engine/encoding/rare_label.py:179: UserWarning: The number of unique categories for variable 56 is less than that indicated in n_categories. Thus, all categories will be considered frequent\n",
      "  warnings.warn(\n",
      "/home/sid/Development/ds-workspace/feature-engineering/venv/lib/python3.8/site-packages/feature_engine/encoding/rare_label.py:179: UserWarning: The number of unique categories for variable 57 is less than that indicated in n_categories. Thus, all categories will be considered frequent\n",
      "  warnings.warn(\n",
      "/home/sid/Development/ds-workspace/feature-engineering/venv/lib/python3.8/site-packages/feature_engine/encoding/rare_label.py:179: UserWarning: The number of unique categories for variable 58 is less than that indicated in n_categories. Thus, all categories will be considered frequent\n",
      "  warnings.warn(\n",
      "/home/sid/Development/ds-workspace/feature-engineering/venv/lib/python3.8/site-packages/sklearn/linear_model/_coordinate_descent.py:645: ConvergenceWarning: Objective did not converge. You might want to increase the number of iterations, check the scale of the features or consider increasing regularisation. Duality gap: 1.121e+11, tolerance: 5.798e+08\n",
      "  model = cd_fast.enet_coordinate_descent(\n",
      "/home/sid/Development/ds-workspace/feature-engineering/venv/lib/python3.8/site-packages/feature_engine/encoding/rare_label.py:179: UserWarning: The number of unique categories for variable 1 is less than that indicated in n_categories. Thus, all categories will be considered frequent\n",
      "  warnings.warn(\n",
      "/home/sid/Development/ds-workspace/feature-engineering/venv/lib/python3.8/site-packages/feature_engine/encoding/rare_label.py:179: UserWarning: The number of unique categories for variable 2 is less than that indicated in n_categories. Thus, all categories will be considered frequent\n",
      "  warnings.warn(\n",
      "/home/sid/Development/ds-workspace/feature-engineering/venv/lib/python3.8/site-packages/feature_engine/encoding/rare_label.py:179: UserWarning: The number of unique categories for variable 1 is less than that indicated in n_categories. Thus, all categories will be considered frequent\n",
      "  warnings.warn(\n",
      "/home/sid/Development/ds-workspace/feature-engineering/venv/lib/python3.8/site-packages/feature_engine/encoding/rare_label.py:179: UserWarning: The number of unique categories for variable 2 is less than that indicated in n_categories. Thus, all categories will be considered frequent\n",
      "  warnings.warn(\n",
      "/home/sid/Development/ds-workspace/feature-engineering/venv/lib/python3.8/site-packages/feature_engine/encoding/rare_label.py:179: UserWarning: The number of unique categories for variable 5 is less than that indicated in n_categories. Thus, all categories will be considered frequent\n",
      "  warnings.warn(\n",
      "/home/sid/Development/ds-workspace/feature-engineering/venv/lib/python3.8/site-packages/feature_engine/encoding/rare_label.py:179: UserWarning: The number of unique categories for variable 7 is less than that indicated in n_categories. Thus, all categories will be considered frequent\n",
      "  warnings.warn(\n",
      "/home/sid/Development/ds-workspace/feature-engineering/venv/lib/python3.8/site-packages/feature_engine/encoding/rare_label.py:179: UserWarning: The number of unique categories for variable 28 is less than that indicated in n_categories. Thus, all categories will be considered frequent\n",
      "  warnings.warn(\n",
      "/home/sid/Development/ds-workspace/feature-engineering/venv/lib/python3.8/site-packages/feature_engine/encoding/rare_label.py:179: UserWarning: The number of unique categories for variable 37 is less than that indicated in n_categories. Thus, all categories will be considered frequent\n",
      "  warnings.warn(\n",
      "/home/sid/Development/ds-workspace/feature-engineering/venv/lib/python3.8/site-packages/feature_engine/encoding/rare_label.py:179: UserWarning: The number of unique categories for variable 40 is less than that indicated in n_categories. Thus, all categories will be considered frequent\n",
      "  warnings.warn(\n",
      "/home/sid/Development/ds-workspace/feature-engineering/venv/lib/python3.8/site-packages/feature_engine/encoding/rare_label.py:179: UserWarning: The number of unique categories for variable 43 is less than that indicated in n_categories. Thus, all categories will be considered frequent\n",
      "  warnings.warn(\n",
      "/home/sid/Development/ds-workspace/feature-engineering/venv/lib/python3.8/site-packages/feature_engine/encoding/rare_label.py:179: UserWarning: The number of unique categories for variable 44 is less than that indicated in n_categories. Thus, all categories will be considered frequent\n",
      "  warnings.warn(\n",
      "/home/sid/Development/ds-workspace/feature-engineering/venv/lib/python3.8/site-packages/feature_engine/encoding/rare_label.py:179: UserWarning: The number of unique categories for variable 45 is less than that indicated in n_categories. Thus, all categories will be considered frequent\n",
      "  warnings.warn(\n",
      "/home/sid/Development/ds-workspace/feature-engineering/venv/lib/python3.8/site-packages/feature_engine/encoding/rare_label.py:179: UserWarning: The number of unique categories for variable 46 is less than that indicated in n_categories. Thus, all categories will be considered frequent\n",
      "  warnings.warn(\n",
      "/home/sid/Development/ds-workspace/feature-engineering/venv/lib/python3.8/site-packages/feature_engine/encoding/rare_label.py:179: UserWarning: The number of unique categories for variable 47 is less than that indicated in n_categories. Thus, all categories will be considered frequent\n",
      "  warnings.warn(\n",
      "/home/sid/Development/ds-workspace/feature-engineering/venv/lib/python3.8/site-packages/feature_engine/encoding/rare_label.py:179: UserWarning: The number of unique categories for variable 48 is less than that indicated in n_categories. Thus, all categories will be considered frequent\n",
      "  warnings.warn(\n",
      "/home/sid/Development/ds-workspace/feature-engineering/venv/lib/python3.8/site-packages/feature_engine/encoding/rare_label.py:179: UserWarning: The number of unique categories for variable 49 is less than that indicated in n_categories. Thus, all categories will be considered frequent\n",
      "  warnings.warn(\n",
      "/home/sid/Development/ds-workspace/feature-engineering/venv/lib/python3.8/site-packages/feature_engine/encoding/rare_label.py:179: UserWarning: The number of unique categories for variable 50 is less than that indicated in n_categories. Thus, all categories will be considered frequent\n",
      "  warnings.warn(\n",
      "/home/sid/Development/ds-workspace/feature-engineering/venv/lib/python3.8/site-packages/feature_engine/encoding/rare_label.py:179: UserWarning: The number of unique categories for variable 51 is less than that indicated in n_categories. Thus, all categories will be considered frequent\n",
      "  warnings.warn(\n",
      "/home/sid/Development/ds-workspace/feature-engineering/venv/lib/python3.8/site-packages/feature_engine/encoding/rare_label.py:179: UserWarning: The number of unique categories for variable 52 is less than that indicated in n_categories. Thus, all categories will be considered frequent\n",
      "  warnings.warn(\n",
      "/home/sid/Development/ds-workspace/feature-engineering/venv/lib/python3.8/site-packages/feature_engine/encoding/rare_label.py:179: UserWarning: The number of unique categories for variable 53 is less than that indicated in n_categories. Thus, all categories will be considered frequent\n",
      "  warnings.warn(\n",
      "/home/sid/Development/ds-workspace/feature-engineering/venv/lib/python3.8/site-packages/feature_engine/encoding/rare_label.py:179: UserWarning: The number of unique categories for variable 54 is less than that indicated in n_categories. Thus, all categories will be considered frequent\n",
      "  warnings.warn(\n",
      "/home/sid/Development/ds-workspace/feature-engineering/venv/lib/python3.8/site-packages/feature_engine/encoding/rare_label.py:179: UserWarning: The number of unique categories for variable 55 is less than that indicated in n_categories. Thus, all categories will be considered frequent\n",
      "  warnings.warn(\n",
      "/home/sid/Development/ds-workspace/feature-engineering/venv/lib/python3.8/site-packages/feature_engine/encoding/rare_label.py:179: UserWarning: The number of unique categories for variable 56 is less than that indicated in n_categories. Thus, all categories will be considered frequent\n",
      "  warnings.warn(\n",
      "/home/sid/Development/ds-workspace/feature-engineering/venv/lib/python3.8/site-packages/feature_engine/encoding/rare_label.py:179: UserWarning: The number of unique categories for variable 57 is less than that indicated in n_categories. Thus, all categories will be considered frequent\n",
      "  warnings.warn(\n",
      "/home/sid/Development/ds-workspace/feature-engineering/venv/lib/python3.8/site-packages/sklearn/linear_model/_coordinate_descent.py:645: ConvergenceWarning: Objective did not converge. You might want to increase the number of iterations, check the scale of the features or consider increasing regularisation. Duality gap: 1.791e+11, tolerance: 5.598e+08\n",
      "  model = cd_fast.enet_coordinate_descent(\n",
      "/home/sid/Development/ds-workspace/feature-engineering/venv/lib/python3.8/site-packages/feature_engine/encoding/rare_label.py:179: UserWarning: The number of unique categories for variable 1 is less than that indicated in n_categories. Thus, all categories will be considered frequent\n",
      "  warnings.warn(\n",
      "/home/sid/Development/ds-workspace/feature-engineering/venv/lib/python3.8/site-packages/feature_engine/encoding/rare_label.py:179: UserWarning: The number of unique categories for variable 2 is less than that indicated in n_categories. Thus, all categories will be considered frequent\n",
      "  warnings.warn(\n",
      "/home/sid/Development/ds-workspace/feature-engineering/venv/lib/python3.8/site-packages/feature_engine/encoding/rare_label.py:179: UserWarning: The number of unique categories for variable 5 is less than that indicated in n_categories. Thus, all categories will be considered frequent\n",
      "  warnings.warn(\n"
     ]
    },
    {
     "name": "stderr",
     "output_type": "stream",
     "text": [
      "/home/sid/Development/ds-workspace/feature-engineering/venv/lib/python3.8/site-packages/feature_engine/encoding/rare_label.py:179: UserWarning: The number of unique categories for variable 1 is less than that indicated in n_categories. Thus, all categories will be considered frequent\n",
      "  warnings.warn(\n",
      "/home/sid/Development/ds-workspace/feature-engineering/venv/lib/python3.8/site-packages/feature_engine/encoding/rare_label.py:179: UserWarning: The number of unique categories for variable 2 is less than that indicated in n_categories. Thus, all categories will be considered frequent\n",
      "  warnings.warn(\n",
      "/home/sid/Development/ds-workspace/feature-engineering/venv/lib/python3.8/site-packages/feature_engine/encoding/rare_label.py:179: UserWarning: The number of unique categories for variable 5 is less than that indicated in n_categories. Thus, all categories will be considered frequent\n",
      "  warnings.warn(\n",
      "/home/sid/Development/ds-workspace/feature-engineering/venv/lib/python3.8/site-packages/feature_engine/encoding/rare_label.py:179: UserWarning: The number of unique categories for variable 7 is less than that indicated in n_categories. Thus, all categories will be considered frequent\n",
      "  warnings.warn(\n",
      "/home/sid/Development/ds-workspace/feature-engineering/venv/lib/python3.8/site-packages/feature_engine/encoding/rare_label.py:179: UserWarning: The number of unique categories for variable 28 is less than that indicated in n_categories. Thus, all categories will be considered frequent\n",
      "  warnings.warn(\n",
      "/home/sid/Development/ds-workspace/feature-engineering/venv/lib/python3.8/site-packages/feature_engine/encoding/rare_label.py:179: UserWarning: The number of unique categories for variable 37 is less than that indicated in n_categories. Thus, all categories will be considered frequent\n",
      "  warnings.warn(\n",
      "/home/sid/Development/ds-workspace/feature-engineering/venv/lib/python3.8/site-packages/feature_engine/encoding/rare_label.py:179: UserWarning: The number of unique categories for variable 38 is less than that indicated in n_categories. Thus, all categories will be considered frequent\n",
      "  warnings.warn(\n",
      "/home/sid/Development/ds-workspace/feature-engineering/venv/lib/python3.8/site-packages/feature_engine/encoding/rare_label.py:179: UserWarning: The number of unique categories for variable 43 is less than that indicated in n_categories. Thus, all categories will be considered frequent\n",
      "  warnings.warn(\n",
      "/home/sid/Development/ds-workspace/feature-engineering/venv/lib/python3.8/site-packages/feature_engine/encoding/rare_label.py:179: UserWarning: The number of unique categories for variable 44 is less than that indicated in n_categories. Thus, all categories will be considered frequent\n",
      "  warnings.warn(\n",
      "/home/sid/Development/ds-workspace/feature-engineering/venv/lib/python3.8/site-packages/feature_engine/encoding/rare_label.py:179: UserWarning: The number of unique categories for variable 45 is less than that indicated in n_categories. Thus, all categories will be considered frequent\n",
      "  warnings.warn(\n",
      "/home/sid/Development/ds-workspace/feature-engineering/venv/lib/python3.8/site-packages/feature_engine/encoding/rare_label.py:179: UserWarning: The number of unique categories for variable 46 is less than that indicated in n_categories. Thus, all categories will be considered frequent\n",
      "  warnings.warn(\n",
      "/home/sid/Development/ds-workspace/feature-engineering/venv/lib/python3.8/site-packages/feature_engine/encoding/rare_label.py:179: UserWarning: The number of unique categories for variable 47 is less than that indicated in n_categories. Thus, all categories will be considered frequent\n",
      "  warnings.warn(\n",
      "/home/sid/Development/ds-workspace/feature-engineering/venv/lib/python3.8/site-packages/feature_engine/encoding/rare_label.py:179: UserWarning: The number of unique categories for variable 48 is less than that indicated in n_categories. Thus, all categories will be considered frequent\n",
      "  warnings.warn(\n",
      "/home/sid/Development/ds-workspace/feature-engineering/venv/lib/python3.8/site-packages/feature_engine/encoding/rare_label.py:179: UserWarning: The number of unique categories for variable 49 is less than that indicated in n_categories. Thus, all categories will be considered frequent\n",
      "  warnings.warn(\n",
      "/home/sid/Development/ds-workspace/feature-engineering/venv/lib/python3.8/site-packages/feature_engine/encoding/rare_label.py:179: UserWarning: The number of unique categories for variable 50 is less than that indicated in n_categories. Thus, all categories will be considered frequent\n",
      "  warnings.warn(\n",
      "/home/sid/Development/ds-workspace/feature-engineering/venv/lib/python3.8/site-packages/feature_engine/encoding/rare_label.py:179: UserWarning: The number of unique categories for variable 51 is less than that indicated in n_categories. Thus, all categories will be considered frequent\n",
      "  warnings.warn(\n",
      "/home/sid/Development/ds-workspace/feature-engineering/venv/lib/python3.8/site-packages/feature_engine/encoding/rare_label.py:179: UserWarning: The number of unique categories for variable 52 is less than that indicated in n_categories. Thus, all categories will be considered frequent\n",
      "  warnings.warn(\n",
      "/home/sid/Development/ds-workspace/feature-engineering/venv/lib/python3.8/site-packages/feature_engine/encoding/rare_label.py:179: UserWarning: The number of unique categories for variable 53 is less than that indicated in n_categories. Thus, all categories will be considered frequent\n",
      "  warnings.warn(\n",
      "/home/sid/Development/ds-workspace/feature-engineering/venv/lib/python3.8/site-packages/feature_engine/encoding/rare_label.py:179: UserWarning: The number of unique categories for variable 54 is less than that indicated in n_categories. Thus, all categories will be considered frequent\n",
      "  warnings.warn(\n",
      "/home/sid/Development/ds-workspace/feature-engineering/venv/lib/python3.8/site-packages/feature_engine/encoding/rare_label.py:179: UserWarning: The number of unique categories for variable 55 is less than that indicated in n_categories. Thus, all categories will be considered frequent\n",
      "  warnings.warn(\n",
      "/home/sid/Development/ds-workspace/feature-engineering/venv/lib/python3.8/site-packages/feature_engine/encoding/rare_label.py:179: UserWarning: The number of unique categories for variable 56 is less than that indicated in n_categories. Thus, all categories will be considered frequent\n",
      "  warnings.warn(\n",
      "/home/sid/Development/ds-workspace/feature-engineering/venv/lib/python3.8/site-packages/feature_engine/encoding/rare_label.py:179: UserWarning: The number of unique categories for variable 57 is less than that indicated in n_categories. Thus, all categories will be considered frequent\n",
      "  warnings.warn(\n",
      "/home/sid/Development/ds-workspace/feature-engineering/venv/lib/python3.8/site-packages/feature_engine/encoding/rare_label.py:179: UserWarning: The number of unique categories for variable 58 is less than that indicated in n_categories. Thus, all categories will be considered frequent\n",
      "  warnings.warn(\n",
      "/home/sid/Development/ds-workspace/feature-engineering/venv/lib/python3.8/site-packages/sklearn/linear_model/_coordinate_descent.py:645: ConvergenceWarning: Objective did not converge. You might want to increase the number of iterations, check the scale of the features or consider increasing regularisation. Duality gap: 1.593e+11, tolerance: 5.532e+08\n",
      "  model = cd_fast.enet_coordinate_descent(\n",
      "/home/sid/Development/ds-workspace/feature-engineering/venv/lib/python3.8/site-packages/feature_engine/encoding/rare_label.py:179: UserWarning: The number of unique categories for variable 1 is less than that indicated in n_categories. Thus, all categories will be considered frequent\n",
      "  warnings.warn(\n",
      "/home/sid/Development/ds-workspace/feature-engineering/venv/lib/python3.8/site-packages/feature_engine/encoding/rare_label.py:179: UserWarning: The number of unique categories for variable 2 is less than that indicated in n_categories. Thus, all categories will be considered frequent\n",
      "  warnings.warn(\n",
      "/home/sid/Development/ds-workspace/feature-engineering/venv/lib/python3.8/site-packages/feature_engine/encoding/rare_label.py:179: UserWarning: The number of unique categories for variable 1 is less than that indicated in n_categories. Thus, all categories will be considered frequent\n",
      "  warnings.warn(\n",
      "/home/sid/Development/ds-workspace/feature-engineering/venv/lib/python3.8/site-packages/feature_engine/encoding/rare_label.py:179: UserWarning: The number of unique categories for variable 2 is less than that indicated in n_categories. Thus, all categories will be considered frequent\n",
      "  warnings.warn(\n",
      "/home/sid/Development/ds-workspace/feature-engineering/venv/lib/python3.8/site-packages/feature_engine/encoding/rare_label.py:179: UserWarning: The number of unique categories for variable 5 is less than that indicated in n_categories. Thus, all categories will be considered frequent\n",
      "  warnings.warn(\n",
      "/home/sid/Development/ds-workspace/feature-engineering/venv/lib/python3.8/site-packages/feature_engine/encoding/rare_label.py:179: UserWarning: The number of unique categories for variable 7 is less than that indicated in n_categories. Thus, all categories will be considered frequent\n",
      "  warnings.warn(\n",
      "/home/sid/Development/ds-workspace/feature-engineering/venv/lib/python3.8/site-packages/feature_engine/encoding/rare_label.py:179: UserWarning: The number of unique categories for variable 28 is less than that indicated in n_categories. Thus, all categories will be considered frequent\n",
      "  warnings.warn(\n",
      "/home/sid/Development/ds-workspace/feature-engineering/venv/lib/python3.8/site-packages/feature_engine/encoding/rare_label.py:179: UserWarning: The number of unique categories for variable 37 is less than that indicated in n_categories. Thus, all categories will be considered frequent\n",
      "  warnings.warn(\n",
      "/home/sid/Development/ds-workspace/feature-engineering/venv/lib/python3.8/site-packages/feature_engine/encoding/rare_label.py:179: UserWarning: The number of unique categories for variable 43 is less than that indicated in n_categories. Thus, all categories will be considered frequent\n",
      "  warnings.warn(\n",
      "/home/sid/Development/ds-workspace/feature-engineering/venv/lib/python3.8/site-packages/feature_engine/encoding/rare_label.py:179: UserWarning: The number of unique categories for variable 44 is less than that indicated in n_categories. Thus, all categories will be considered frequent\n",
      "  warnings.warn(\n",
      "/home/sid/Development/ds-workspace/feature-engineering/venv/lib/python3.8/site-packages/feature_engine/encoding/rare_label.py:179: UserWarning: The number of unique categories for variable 45 is less than that indicated in n_categories. Thus, all categories will be considered frequent\n",
      "  warnings.warn(\n",
      "/home/sid/Development/ds-workspace/feature-engineering/venv/lib/python3.8/site-packages/feature_engine/encoding/rare_label.py:179: UserWarning: The number of unique categories for variable 46 is less than that indicated in n_categories. Thus, all categories will be considered frequent\n",
      "  warnings.warn(\n",
      "/home/sid/Development/ds-workspace/feature-engineering/venv/lib/python3.8/site-packages/feature_engine/encoding/rare_label.py:179: UserWarning: The number of unique categories for variable 47 is less than that indicated in n_categories. Thus, all categories will be considered frequent\n",
      "  warnings.warn(\n",
      "/home/sid/Development/ds-workspace/feature-engineering/venv/lib/python3.8/site-packages/feature_engine/encoding/rare_label.py:179: UserWarning: The number of unique categories for variable 48 is less than that indicated in n_categories. Thus, all categories will be considered frequent\n",
      "  warnings.warn(\n",
      "/home/sid/Development/ds-workspace/feature-engineering/venv/lib/python3.8/site-packages/feature_engine/encoding/rare_label.py:179: UserWarning: The number of unique categories for variable 49 is less than that indicated in n_categories. Thus, all categories will be considered frequent\n",
      "  warnings.warn(\n",
      "/home/sid/Development/ds-workspace/feature-engineering/venv/lib/python3.8/site-packages/feature_engine/encoding/rare_label.py:179: UserWarning: The number of unique categories for variable 50 is less than that indicated in n_categories. Thus, all categories will be considered frequent\n",
      "  warnings.warn(\n",
      "/home/sid/Development/ds-workspace/feature-engineering/venv/lib/python3.8/site-packages/feature_engine/encoding/rare_label.py:179: UserWarning: The number of unique categories for variable 51 is less than that indicated in n_categories. Thus, all categories will be considered frequent\n",
      "  warnings.warn(\n",
      "/home/sid/Development/ds-workspace/feature-engineering/venv/lib/python3.8/site-packages/feature_engine/encoding/rare_label.py:179: UserWarning: The number of unique categories for variable 52 is less than that indicated in n_categories. Thus, all categories will be considered frequent\n",
      "  warnings.warn(\n",
      "/home/sid/Development/ds-workspace/feature-engineering/venv/lib/python3.8/site-packages/feature_engine/encoding/rare_label.py:179: UserWarning: The number of unique categories for variable 53 is less than that indicated in n_categories. Thus, all categories will be considered frequent\n",
      "  warnings.warn(\n",
      "/home/sid/Development/ds-workspace/feature-engineering/venv/lib/python3.8/site-packages/feature_engine/encoding/rare_label.py:179: UserWarning: The number of unique categories for variable 54 is less than that indicated in n_categories. Thus, all categories will be considered frequent\n",
      "  warnings.warn(\n",
      "/home/sid/Development/ds-workspace/feature-engineering/venv/lib/python3.8/site-packages/feature_engine/encoding/rare_label.py:179: UserWarning: The number of unique categories for variable 55 is less than that indicated in n_categories. Thus, all categories will be considered frequent\n",
      "  warnings.warn(\n",
      "/home/sid/Development/ds-workspace/feature-engineering/venv/lib/python3.8/site-packages/feature_engine/encoding/rare_label.py:179: UserWarning: The number of unique categories for variable 56 is less than that indicated in n_categories. Thus, all categories will be considered frequent\n",
      "  warnings.warn(\n",
      "/home/sid/Development/ds-workspace/feature-engineering/venv/lib/python3.8/site-packages/feature_engine/encoding/rare_label.py:179: UserWarning: The number of unique categories for variable 57 is less than that indicated in n_categories. Thus, all categories will be considered frequent\n",
      "  warnings.warn(\n",
      "/home/sid/Development/ds-workspace/feature-engineering/venv/lib/python3.8/site-packages/feature_engine/encoding/rare_label.py:179: UserWarning: The number of unique categories for variable 58 is less than that indicated in n_categories. Thus, all categories will be considered frequent\n",
      "  warnings.warn(\n",
      "/home/sid/Development/ds-workspace/feature-engineering/venv/lib/python3.8/site-packages/sklearn/linear_model/_coordinate_descent.py:645: ConvergenceWarning: Objective did not converge. You might want to increase the number of iterations, check the scale of the features or consider increasing regularisation. Duality gap: 1.776e+11, tolerance: 5.678e+08\n",
      "  model = cd_fast.enet_coordinate_descent(\n",
      "/home/sid/Development/ds-workspace/feature-engineering/venv/lib/python3.8/site-packages/feature_engine/encoding/rare_label.py:179: UserWarning: The number of unique categories for variable 1 is less than that indicated in n_categories. Thus, all categories will be considered frequent\n",
      "  warnings.warn(\n",
      "/home/sid/Development/ds-workspace/feature-engineering/venv/lib/python3.8/site-packages/feature_engine/encoding/rare_label.py:179: UserWarning: The number of unique categories for variable 2 is less than that indicated in n_categories. Thus, all categories will be considered frequent\n",
      "  warnings.warn(\n",
      "/home/sid/Development/ds-workspace/feature-engineering/venv/lib/python3.8/site-packages/feature_engine/encoding/rare_label.py:179: UserWarning: The number of unique categories for variable 5 is less than that indicated in n_categories. Thus, all categories will be considered frequent\n",
      "  warnings.warn(\n"
     ]
    },
    {
     "name": "stderr",
     "output_type": "stream",
     "text": [
      "/home/sid/Development/ds-workspace/feature-engineering/venv/lib/python3.8/site-packages/feature_engine/encoding/rare_label.py:179: UserWarning: The number of unique categories for variable 5 is less than that indicated in n_categories. Thus, all categories will be considered frequent\n",
      "  warnings.warn(\n",
      "/home/sid/Development/ds-workspace/feature-engineering/venv/lib/python3.8/site-packages/feature_engine/encoding/rare_label.py:179: UserWarning: The number of unique categories for variable 7 is less than that indicated in n_categories. Thus, all categories will be considered frequent\n",
      "  warnings.warn(\n",
      "/home/sid/Development/ds-workspace/feature-engineering/venv/lib/python3.8/site-packages/feature_engine/encoding/rare_label.py:179: UserWarning: The number of unique categories for variable 28 is less than that indicated in n_categories. Thus, all categories will be considered frequent\n",
      "  warnings.warn(\n",
      "/home/sid/Development/ds-workspace/feature-engineering/venv/lib/python3.8/site-packages/feature_engine/encoding/rare_label.py:179: UserWarning: The number of unique categories for variable 37 is less than that indicated in n_categories. Thus, all categories will be considered frequent\n",
      "  warnings.warn(\n",
      "/home/sid/Development/ds-workspace/feature-engineering/venv/lib/python3.8/site-packages/feature_engine/encoding/rare_label.py:179: UserWarning: The number of unique categories for variable 43 is less than that indicated in n_categories. Thus, all categories will be considered frequent\n",
      "  warnings.warn(\n",
      "/home/sid/Development/ds-workspace/feature-engineering/venv/lib/python3.8/site-packages/feature_engine/encoding/rare_label.py:179: UserWarning: The number of unique categories for variable 44 is less than that indicated in n_categories. Thus, all categories will be considered frequent\n",
      "  warnings.warn(\n",
      "/home/sid/Development/ds-workspace/feature-engineering/venv/lib/python3.8/site-packages/feature_engine/encoding/rare_label.py:179: UserWarning: The number of unique categories for variable 45 is less than that indicated in n_categories. Thus, all categories will be considered frequent\n",
      "  warnings.warn(\n",
      "/home/sid/Development/ds-workspace/feature-engineering/venv/lib/python3.8/site-packages/feature_engine/encoding/rare_label.py:179: UserWarning: The number of unique categories for variable 46 is less than that indicated in n_categories. Thus, all categories will be considered frequent\n",
      "  warnings.warn(\n",
      "/home/sid/Development/ds-workspace/feature-engineering/venv/lib/python3.8/site-packages/feature_engine/encoding/rare_label.py:179: UserWarning: The number of unique categories for variable 47 is less than that indicated in n_categories. Thus, all categories will be considered frequent\n",
      "  warnings.warn(\n",
      "/home/sid/Development/ds-workspace/feature-engineering/venv/lib/python3.8/site-packages/feature_engine/encoding/rare_label.py:179: UserWarning: The number of unique categories for variable 48 is less than that indicated in n_categories. Thus, all categories will be considered frequent\n",
      "  warnings.warn(\n",
      "/home/sid/Development/ds-workspace/feature-engineering/venv/lib/python3.8/site-packages/feature_engine/encoding/rare_label.py:179: UserWarning: The number of unique categories for variable 49 is less than that indicated in n_categories. Thus, all categories will be considered frequent\n",
      "  warnings.warn(\n",
      "/home/sid/Development/ds-workspace/feature-engineering/venv/lib/python3.8/site-packages/feature_engine/encoding/rare_label.py:179: UserWarning: The number of unique categories for variable 50 is less than that indicated in n_categories. Thus, all categories will be considered frequent\n",
      "  warnings.warn(\n",
      "/home/sid/Development/ds-workspace/feature-engineering/venv/lib/python3.8/site-packages/feature_engine/encoding/rare_label.py:179: UserWarning: The number of unique categories for variable 51 is less than that indicated in n_categories. Thus, all categories will be considered frequent\n",
      "  warnings.warn(\n",
      "/home/sid/Development/ds-workspace/feature-engineering/venv/lib/python3.8/site-packages/feature_engine/encoding/rare_label.py:179: UserWarning: The number of unique categories for variable 52 is less than that indicated in n_categories. Thus, all categories will be considered frequent\n",
      "  warnings.warn(\n",
      "/home/sid/Development/ds-workspace/feature-engineering/venv/lib/python3.8/site-packages/feature_engine/encoding/rare_label.py:179: UserWarning: The number of unique categories for variable 53 is less than that indicated in n_categories. Thus, all categories will be considered frequent\n",
      "  warnings.warn(\n",
      "/home/sid/Development/ds-workspace/feature-engineering/venv/lib/python3.8/site-packages/feature_engine/encoding/rare_label.py:179: UserWarning: The number of unique categories for variable 54 is less than that indicated in n_categories. Thus, all categories will be considered frequent\n",
      "  warnings.warn(\n",
      "/home/sid/Development/ds-workspace/feature-engineering/venv/lib/python3.8/site-packages/feature_engine/encoding/rare_label.py:179: UserWarning: The number of unique categories for variable 55 is less than that indicated in n_categories. Thus, all categories will be considered frequent\n",
      "  warnings.warn(\n",
      "/home/sid/Development/ds-workspace/feature-engineering/venv/lib/python3.8/site-packages/feature_engine/encoding/rare_label.py:179: UserWarning: The number of unique categories for variable 56 is less than that indicated in n_categories. Thus, all categories will be considered frequent\n",
      "  warnings.warn(\n",
      "/home/sid/Development/ds-workspace/feature-engineering/venv/lib/python3.8/site-packages/feature_engine/encoding/rare_label.py:179: UserWarning: The number of unique categories for variable 57 is less than that indicated in n_categories. Thus, all categories will be considered frequent\n",
      "  warnings.warn(\n",
      "/home/sid/Development/ds-workspace/feature-engineering/venv/lib/python3.8/site-packages/feature_engine/encoding/rare_label.py:179: UserWarning: The number of unique categories for variable 58 is less than that indicated in n_categories. Thus, all categories will be considered frequent\n",
      "  warnings.warn(\n",
      "/home/sid/Development/ds-workspace/feature-engineering/venv/lib/python3.8/site-packages/sklearn/linear_model/_coordinate_descent.py:645: ConvergenceWarning: Objective did not converge. You might want to increase the number of iterations, check the scale of the features or consider increasing regularisation. Duality gap: 2.865e+11, tolerance: 6.151e+08\n",
      "  model = cd_fast.enet_coordinate_descent(\n",
      "/home/sid/Development/ds-workspace/feature-engineering/venv/lib/python3.8/site-packages/feature_engine/encoding/rare_label.py:179: UserWarning: The number of unique categories for variable 1 is less than that indicated in n_categories. Thus, all categories will be considered frequent\n",
      "  warnings.warn(\n",
      "/home/sid/Development/ds-workspace/feature-engineering/venv/lib/python3.8/site-packages/feature_engine/encoding/rare_label.py:179: UserWarning: The number of unique categories for variable 2 is less than that indicated in n_categories. Thus, all categories will be considered frequent\n",
      "  warnings.warn(\n",
      "/home/sid/Development/ds-workspace/feature-engineering/venv/lib/python3.8/site-packages/feature_engine/encoding/rare_label.py:179: UserWarning: The number of unique categories for variable 5 is less than that indicated in n_categories. Thus, all categories will be considered frequent\n",
      "  warnings.warn(\n",
      "/home/sid/Development/ds-workspace/feature-engineering/venv/lib/python3.8/site-packages/feature_engine/encoding/rare_label.py:179: UserWarning: The number of unique categories for variable 7 is less than that indicated in n_categories. Thus, all categories will be considered frequent\n",
      "  warnings.warn(\n",
      "/home/sid/Development/ds-workspace/feature-engineering/venv/lib/python3.8/site-packages/feature_engine/encoding/rare_label.py:179: UserWarning: The number of unique categories for variable 28 is less than that indicated in n_categories. Thus, all categories will be considered frequent\n",
      "  warnings.warn(\n",
      "/home/sid/Development/ds-workspace/feature-engineering/venv/lib/python3.8/site-packages/feature_engine/encoding/rare_label.py:179: UserWarning: The number of unique categories for variable 7 is less than that indicated in n_categories. Thus, all categories will be considered frequent\n",
      "  warnings.warn(\n",
      "/home/sid/Development/ds-workspace/feature-engineering/venv/lib/python3.8/site-packages/feature_engine/encoding/rare_label.py:179: UserWarning: The number of unique categories for variable 28 is less than that indicated in n_categories. Thus, all categories will be considered frequent\n",
      "  warnings.warn(\n",
      "/home/sid/Development/ds-workspace/feature-engineering/venv/lib/python3.8/site-packages/feature_engine/encoding/rare_label.py:179: UserWarning: The number of unique categories for variable 34 is less than that indicated in n_categories. Thus, all categories will be considered frequent\n",
      "  warnings.warn(\n",
      "/home/sid/Development/ds-workspace/feature-engineering/venv/lib/python3.8/site-packages/feature_engine/encoding/rare_label.py:179: UserWarning: The number of unique categories for variable 37 is less than that indicated in n_categories. Thus, all categories will be considered frequent\n",
      "  warnings.warn(\n",
      "/home/sid/Development/ds-workspace/feature-engineering/venv/lib/python3.8/site-packages/feature_engine/encoding/rare_label.py:179: UserWarning: The number of unique categories for variable 38 is less than that indicated in n_categories. Thus, all categories will be considered frequent\n",
      "  warnings.warn(\n",
      "/home/sid/Development/ds-workspace/feature-engineering/venv/lib/python3.8/site-packages/feature_engine/encoding/rare_label.py:179: UserWarning: The number of unique categories for variable 40 is less than that indicated in n_categories. Thus, all categories will be considered frequent\n",
      "  warnings.warn(\n",
      "/home/sid/Development/ds-workspace/feature-engineering/venv/lib/python3.8/site-packages/feature_engine/encoding/rare_label.py:179: UserWarning: The number of unique categories for variable 43 is less than that indicated in n_categories. Thus, all categories will be considered frequent\n",
      "  warnings.warn(\n",
      "/home/sid/Development/ds-workspace/feature-engineering/venv/lib/python3.8/site-packages/feature_engine/encoding/rare_label.py:179: UserWarning: The number of unique categories for variable 44 is less than that indicated in n_categories. Thus, all categories will be considered frequent\n",
      "  warnings.warn(\n",
      "/home/sid/Development/ds-workspace/feature-engineering/venv/lib/python3.8/site-packages/feature_engine/encoding/rare_label.py:179: UserWarning: The number of unique categories for variable 45 is less than that indicated in n_categories. Thus, all categories will be considered frequent\n",
      "  warnings.warn(\n",
      "/home/sid/Development/ds-workspace/feature-engineering/venv/lib/python3.8/site-packages/feature_engine/encoding/rare_label.py:179: UserWarning: The number of unique categories for variable 46 is less than that indicated in n_categories. Thus, all categories will be considered frequent\n",
      "  warnings.warn(\n",
      "/home/sid/Development/ds-workspace/feature-engineering/venv/lib/python3.8/site-packages/feature_engine/encoding/rare_label.py:179: UserWarning: The number of unique categories for variable 47 is less than that indicated in n_categories. Thus, all categories will be considered frequent\n",
      "  warnings.warn(\n",
      "/home/sid/Development/ds-workspace/feature-engineering/venv/lib/python3.8/site-packages/feature_engine/encoding/rare_label.py:179: UserWarning: The number of unique categories for variable 48 is less than that indicated in n_categories. Thus, all categories will be considered frequent\n",
      "  warnings.warn(\n",
      "/home/sid/Development/ds-workspace/feature-engineering/venv/lib/python3.8/site-packages/feature_engine/encoding/rare_label.py:179: UserWarning: The number of unique categories for variable 49 is less than that indicated in n_categories. Thus, all categories will be considered frequent\n",
      "  warnings.warn(\n",
      "/home/sid/Development/ds-workspace/feature-engineering/venv/lib/python3.8/site-packages/feature_engine/encoding/rare_label.py:179: UserWarning: The number of unique categories for variable 50 is less than that indicated in n_categories. Thus, all categories will be considered frequent\n",
      "  warnings.warn(\n",
      "/home/sid/Development/ds-workspace/feature-engineering/venv/lib/python3.8/site-packages/feature_engine/encoding/rare_label.py:179: UserWarning: The number of unique categories for variable 51 is less than that indicated in n_categories. Thus, all categories will be considered frequent\n",
      "  warnings.warn(\n",
      "/home/sid/Development/ds-workspace/feature-engineering/venv/lib/python3.8/site-packages/feature_engine/encoding/rare_label.py:179: UserWarning: The number of unique categories for variable 52 is less than that indicated in n_categories. Thus, all categories will be considered frequent\n",
      "  warnings.warn(\n",
      "/home/sid/Development/ds-workspace/feature-engineering/venv/lib/python3.8/site-packages/feature_engine/encoding/rare_label.py:179: UserWarning: The number of unique categories for variable 53 is less than that indicated in n_categories. Thus, all categories will be considered frequent\n",
      "  warnings.warn(\n",
      "/home/sid/Development/ds-workspace/feature-engineering/venv/lib/python3.8/site-packages/feature_engine/encoding/rare_label.py:179: UserWarning: The number of unique categories for variable 54 is less than that indicated in n_categories. Thus, all categories will be considered frequent\n",
      "  warnings.warn(\n",
      "/home/sid/Development/ds-workspace/feature-engineering/venv/lib/python3.8/site-packages/feature_engine/encoding/rare_label.py:179: UserWarning: The number of unique categories for variable 55 is less than that indicated in n_categories. Thus, all categories will be considered frequent\n",
      "  warnings.warn(\n",
      "/home/sid/Development/ds-workspace/feature-engineering/venv/lib/python3.8/site-packages/feature_engine/encoding/rare_label.py:179: UserWarning: The number of unique categories for variable 56 is less than that indicated in n_categories. Thus, all categories will be considered frequent\n",
      "  warnings.warn(\n",
      "/home/sid/Development/ds-workspace/feature-engineering/venv/lib/python3.8/site-packages/feature_engine/encoding/rare_label.py:179: UserWarning: The number of unique categories for variable 57 is less than that indicated in n_categories. Thus, all categories will be considered frequent\n",
      "  warnings.warn(\n",
      "/home/sid/Development/ds-workspace/feature-engineering/venv/lib/python3.8/site-packages/feature_engine/encoding/rare_label.py:179: UserWarning: The number of unique categories for variable 58 is less than that indicated in n_categories. Thus, all categories will be considered frequent\n",
      "  warnings.warn(\n",
      "/home/sid/Development/ds-workspace/feature-engineering/venv/lib/python3.8/site-packages/sklearn/linear_model/_coordinate_descent.py:645: ConvergenceWarning: Objective did not converge. You might want to increase the number of iterations, check the scale of the features or consider increasing regularisation. Duality gap: 9.460e+10, tolerance: 5.798e+08\n",
      "  model = cd_fast.enet_coordinate_descent(\n",
      "/home/sid/Development/ds-workspace/feature-engineering/venv/lib/python3.8/site-packages/feature_engine/encoding/rare_label.py:179: UserWarning: The number of unique categories for variable 1 is less than that indicated in n_categories. Thus, all categories will be considered frequent\n",
      "  warnings.warn(\n",
      "/home/sid/Development/ds-workspace/feature-engineering/venv/lib/python3.8/site-packages/feature_engine/encoding/rare_label.py:179: UserWarning: The number of unique categories for variable 2 is less than that indicated in n_categories. Thus, all categories will be considered frequent\n",
      "  warnings.warn(\n",
      "/home/sid/Development/ds-workspace/feature-engineering/venv/lib/python3.8/site-packages/feature_engine/encoding/rare_label.py:179: UserWarning: The number of unique categories for variable 5 is less than that indicated in n_categories. Thus, all categories will be considered frequent\n",
      "  warnings.warn(\n"
     ]
    },
    {
     "name": "stderr",
     "output_type": "stream",
     "text": [
      "/home/sid/Development/ds-workspace/feature-engineering/venv/lib/python3.8/site-packages/feature_engine/encoding/rare_label.py:179: UserWarning: The number of unique categories for variable 5 is less than that indicated in n_categories. Thus, all categories will be considered frequent\n",
      "  warnings.warn(\n",
      "/home/sid/Development/ds-workspace/feature-engineering/venv/lib/python3.8/site-packages/feature_engine/encoding/rare_label.py:179: UserWarning: The number of unique categories for variable 7 is less than that indicated in n_categories. Thus, all categories will be considered frequent\n",
      "  warnings.warn(\n",
      "/home/sid/Development/ds-workspace/feature-engineering/venv/lib/python3.8/site-packages/feature_engine/encoding/rare_label.py:179: UserWarning: The number of unique categories for variable 28 is less than that indicated in n_categories. Thus, all categories will be considered frequent\n",
      "  warnings.warn(\n",
      "/home/sid/Development/ds-workspace/feature-engineering/venv/lib/python3.8/site-packages/feature_engine/encoding/rare_label.py:179: UserWarning: The number of unique categories for variable 34 is less than that indicated in n_categories. Thus, all categories will be considered frequent\n",
      "  warnings.warn(\n",
      "/home/sid/Development/ds-workspace/feature-engineering/venv/lib/python3.8/site-packages/feature_engine/encoding/rare_label.py:179: UserWarning: The number of unique categories for variable 37 is less than that indicated in n_categories. Thus, all categories will be considered frequent\n",
      "  warnings.warn(\n",
      "/home/sid/Development/ds-workspace/feature-engineering/venv/lib/python3.8/site-packages/feature_engine/encoding/rare_label.py:179: UserWarning: The number of unique categories for variable 38 is less than that indicated in n_categories. Thus, all categories will be considered frequent\n",
      "  warnings.warn(\n",
      "/home/sid/Development/ds-workspace/feature-engineering/venv/lib/python3.8/site-packages/feature_engine/encoding/rare_label.py:179: UserWarning: The number of unique categories for variable 40 is less than that indicated in n_categories. Thus, all categories will be considered frequent\n",
      "  warnings.warn(\n",
      "/home/sid/Development/ds-workspace/feature-engineering/venv/lib/python3.8/site-packages/feature_engine/encoding/rare_label.py:179: UserWarning: The number of unique categories for variable 43 is less than that indicated in n_categories. Thus, all categories will be considered frequent\n",
      "  warnings.warn(\n",
      "/home/sid/Development/ds-workspace/feature-engineering/venv/lib/python3.8/site-packages/feature_engine/encoding/rare_label.py:179: UserWarning: The number of unique categories for variable 44 is less than that indicated in n_categories. Thus, all categories will be considered frequent\n",
      "  warnings.warn(\n",
      "/home/sid/Development/ds-workspace/feature-engineering/venv/lib/python3.8/site-packages/feature_engine/encoding/rare_label.py:179: UserWarning: The number of unique categories for variable 45 is less than that indicated in n_categories. Thus, all categories will be considered frequent\n",
      "  warnings.warn(\n",
      "/home/sid/Development/ds-workspace/feature-engineering/venv/lib/python3.8/site-packages/feature_engine/encoding/rare_label.py:179: UserWarning: The number of unique categories for variable 46 is less than that indicated in n_categories. Thus, all categories will be considered frequent\n",
      "  warnings.warn(\n",
      "/home/sid/Development/ds-workspace/feature-engineering/venv/lib/python3.8/site-packages/feature_engine/encoding/rare_label.py:179: UserWarning: The number of unique categories for variable 47 is less than that indicated in n_categories. Thus, all categories will be considered frequent\n",
      "  warnings.warn(\n",
      "/home/sid/Development/ds-workspace/feature-engineering/venv/lib/python3.8/site-packages/feature_engine/encoding/rare_label.py:179: UserWarning: The number of unique categories for variable 48 is less than that indicated in n_categories. Thus, all categories will be considered frequent\n",
      "  warnings.warn(\n",
      "/home/sid/Development/ds-workspace/feature-engineering/venv/lib/python3.8/site-packages/feature_engine/encoding/rare_label.py:179: UserWarning: The number of unique categories for variable 49 is less than that indicated in n_categories. Thus, all categories will be considered frequent\n",
      "  warnings.warn(\n",
      "/home/sid/Development/ds-workspace/feature-engineering/venv/lib/python3.8/site-packages/feature_engine/encoding/rare_label.py:179: UserWarning: The number of unique categories for variable 50 is less than that indicated in n_categories. Thus, all categories will be considered frequent\n",
      "  warnings.warn(\n",
      "/home/sid/Development/ds-workspace/feature-engineering/venv/lib/python3.8/site-packages/feature_engine/encoding/rare_label.py:179: UserWarning: The number of unique categories for variable 51 is less than that indicated in n_categories. Thus, all categories will be considered frequent\n",
      "  warnings.warn(\n",
      "/home/sid/Development/ds-workspace/feature-engineering/venv/lib/python3.8/site-packages/feature_engine/encoding/rare_label.py:179: UserWarning: The number of unique categories for variable 52 is less than that indicated in n_categories. Thus, all categories will be considered frequent\n",
      "  warnings.warn(\n",
      "/home/sid/Development/ds-workspace/feature-engineering/venv/lib/python3.8/site-packages/feature_engine/encoding/rare_label.py:179: UserWarning: The number of unique categories for variable 53 is less than that indicated in n_categories. Thus, all categories will be considered frequent\n",
      "  warnings.warn(\n",
      "/home/sid/Development/ds-workspace/feature-engineering/venv/lib/python3.8/site-packages/feature_engine/encoding/rare_label.py:179: UserWarning: The number of unique categories for variable 54 is less than that indicated in n_categories. Thus, all categories will be considered frequent\n",
      "  warnings.warn(\n",
      "/home/sid/Development/ds-workspace/feature-engineering/venv/lib/python3.8/site-packages/feature_engine/encoding/rare_label.py:179: UserWarning: The number of unique categories for variable 55 is less than that indicated in n_categories. Thus, all categories will be considered frequent\n",
      "  warnings.warn(\n",
      "/home/sid/Development/ds-workspace/feature-engineering/venv/lib/python3.8/site-packages/feature_engine/encoding/rare_label.py:179: UserWarning: The number of unique categories for variable 56 is less than that indicated in n_categories. Thus, all categories will be considered frequent\n",
      "  warnings.warn(\n",
      "/home/sid/Development/ds-workspace/feature-engineering/venv/lib/python3.8/site-packages/feature_engine/encoding/rare_label.py:179: UserWarning: The number of unique categories for variable 57 is less than that indicated in n_categories. Thus, all categories will be considered frequent\n",
      "  warnings.warn(\n",
      "/home/sid/Development/ds-workspace/feature-engineering/venv/lib/python3.8/site-packages/feature_engine/encoding/rare_label.py:179: UserWarning: The number of unique categories for variable 58 is less than that indicated in n_categories. Thus, all categories will be considered frequent\n",
      "  warnings.warn(\n",
      "/home/sid/Development/ds-workspace/feature-engineering/venv/lib/python3.8/site-packages/sklearn/linear_model/_coordinate_descent.py:645: ConvergenceWarning: Objective did not converge. You might want to increase the number of iterations, check the scale of the features or consider increasing regularisation. Duality gap: 1.788e+11, tolerance: 5.678e+08\n",
      "  model = cd_fast.enet_coordinate_descent(\n",
      "/home/sid/Development/ds-workspace/feature-engineering/venv/lib/python3.8/site-packages/feature_engine/encoding/rare_label.py:179: UserWarning: The number of unique categories for variable 1 is less than that indicated in n_categories. Thus, all categories will be considered frequent\n",
      "  warnings.warn(\n",
      "/home/sid/Development/ds-workspace/feature-engineering/venv/lib/python3.8/site-packages/feature_engine/encoding/rare_label.py:179: UserWarning: The number of unique categories for variable 2 is less than that indicated in n_categories. Thus, all categories will be considered frequent\n",
      "  warnings.warn(\n",
      "/home/sid/Development/ds-workspace/feature-engineering/venv/lib/python3.8/site-packages/feature_engine/encoding/rare_label.py:179: UserWarning: The number of unique categories for variable 7 is less than that indicated in n_categories. Thus, all categories will be considered frequent\n",
      "  warnings.warn(\n",
      "/home/sid/Development/ds-workspace/feature-engineering/venv/lib/python3.8/site-packages/feature_engine/encoding/rare_label.py:179: UserWarning: The number of unique categories for variable 28 is less than that indicated in n_categories. Thus, all categories will be considered frequent\n",
      "  warnings.warn(\n",
      "/home/sid/Development/ds-workspace/feature-engineering/venv/lib/python3.8/site-packages/feature_engine/encoding/rare_label.py:179: UserWarning: The number of unique categories for variable 34 is less than that indicated in n_categories. Thus, all categories will be considered frequent\n",
      "  warnings.warn(\n",
      "/home/sid/Development/ds-workspace/feature-engineering/venv/lib/python3.8/site-packages/feature_engine/encoding/rare_label.py:179: UserWarning: The number of unique categories for variable 37 is less than that indicated in n_categories. Thus, all categories will be considered frequent\n",
      "  warnings.warn(\n",
      "/home/sid/Development/ds-workspace/feature-engineering/venv/lib/python3.8/site-packages/feature_engine/encoding/rare_label.py:179: UserWarning: The number of unique categories for variable 38 is less than that indicated in n_categories. Thus, all categories will be considered frequent\n",
      "  warnings.warn(\n",
      "/home/sid/Development/ds-workspace/feature-engineering/venv/lib/python3.8/site-packages/feature_engine/encoding/rare_label.py:179: UserWarning: The number of unique categories for variable 40 is less than that indicated in n_categories. Thus, all categories will be considered frequent\n",
      "  warnings.warn(\n",
      "/home/sid/Development/ds-workspace/feature-engineering/venv/lib/python3.8/site-packages/feature_engine/encoding/rare_label.py:179: UserWarning: The number of unique categories for variable 43 is less than that indicated in n_categories. Thus, all categories will be considered frequent\n",
      "  warnings.warn(\n",
      "/home/sid/Development/ds-workspace/feature-engineering/venv/lib/python3.8/site-packages/feature_engine/encoding/rare_label.py:179: UserWarning: The number of unique categories for variable 44 is less than that indicated in n_categories. Thus, all categories will be considered frequent\n",
      "  warnings.warn(\n",
      "/home/sid/Development/ds-workspace/feature-engineering/venv/lib/python3.8/site-packages/feature_engine/encoding/rare_label.py:179: UserWarning: The number of unique categories for variable 45 is less than that indicated in n_categories. Thus, all categories will be considered frequent\n",
      "  warnings.warn(\n",
      "/home/sid/Development/ds-workspace/feature-engineering/venv/lib/python3.8/site-packages/feature_engine/encoding/rare_label.py:179: UserWarning: The number of unique categories for variable 46 is less than that indicated in n_categories. Thus, all categories will be considered frequent\n",
      "  warnings.warn(\n",
      "/home/sid/Development/ds-workspace/feature-engineering/venv/lib/python3.8/site-packages/feature_engine/encoding/rare_label.py:179: UserWarning: The number of unique categories for variable 47 is less than that indicated in n_categories. Thus, all categories will be considered frequent\n",
      "  warnings.warn(\n",
      "/home/sid/Development/ds-workspace/feature-engineering/venv/lib/python3.8/site-packages/feature_engine/encoding/rare_label.py:179: UserWarning: The number of unique categories for variable 48 is less than that indicated in n_categories. Thus, all categories will be considered frequent\n",
      "  warnings.warn(\n",
      "/home/sid/Development/ds-workspace/feature-engineering/venv/lib/python3.8/site-packages/feature_engine/encoding/rare_label.py:179: UserWarning: The number of unique categories for variable 49 is less than that indicated in n_categories. Thus, all categories will be considered frequent\n",
      "  warnings.warn(\n",
      "/home/sid/Development/ds-workspace/feature-engineering/venv/lib/python3.8/site-packages/feature_engine/encoding/rare_label.py:179: UserWarning: The number of unique categories for variable 50 is less than that indicated in n_categories. Thus, all categories will be considered frequent\n",
      "  warnings.warn(\n",
      "/home/sid/Development/ds-workspace/feature-engineering/venv/lib/python3.8/site-packages/feature_engine/encoding/rare_label.py:179: UserWarning: The number of unique categories for variable 51 is less than that indicated in n_categories. Thus, all categories will be considered frequent\n",
      "  warnings.warn(\n",
      "/home/sid/Development/ds-workspace/feature-engineering/venv/lib/python3.8/site-packages/feature_engine/encoding/rare_label.py:179: UserWarning: The number of unique categories for variable 52 is less than that indicated in n_categories. Thus, all categories will be considered frequent\n",
      "  warnings.warn(\n",
      "/home/sid/Development/ds-workspace/feature-engineering/venv/lib/python3.8/site-packages/feature_engine/encoding/rare_label.py:179: UserWarning: The number of unique categories for variable 53 is less than that indicated in n_categories. Thus, all categories will be considered frequent\n",
      "  warnings.warn(\n",
      "/home/sid/Development/ds-workspace/feature-engineering/venv/lib/python3.8/site-packages/feature_engine/encoding/rare_label.py:179: UserWarning: The number of unique categories for variable 54 is less than that indicated in n_categories. Thus, all categories will be considered frequent\n",
      "  warnings.warn(\n",
      "/home/sid/Development/ds-workspace/feature-engineering/venv/lib/python3.8/site-packages/feature_engine/encoding/rare_label.py:179: UserWarning: The number of unique categories for variable 55 is less than that indicated in n_categories. Thus, all categories will be considered frequent\n",
      "  warnings.warn(\n",
      "/home/sid/Development/ds-workspace/feature-engineering/venv/lib/python3.8/site-packages/feature_engine/encoding/rare_label.py:179: UserWarning: The number of unique categories for variable 56 is less than that indicated in n_categories. Thus, all categories will be considered frequent\n",
      "  warnings.warn(\n",
      "/home/sid/Development/ds-workspace/feature-engineering/venv/lib/python3.8/site-packages/feature_engine/encoding/rare_label.py:179: UserWarning: The number of unique categories for variable 57 is less than that indicated in n_categories. Thus, all categories will be considered frequent\n",
      "  warnings.warn(\n",
      "/home/sid/Development/ds-workspace/feature-engineering/venv/lib/python3.8/site-packages/sklearn/linear_model/_coordinate_descent.py:645: ConvergenceWarning: Objective did not converge. You might want to increase the number of iterations, check the scale of the features or consider increasing regularisation. Duality gap: 1.797e+11, tolerance: 5.598e+08\n",
      "  model = cd_fast.enet_coordinate_descent(\n",
      "/home/sid/Development/ds-workspace/feature-engineering/venv/lib/python3.8/site-packages/feature_engine/encoding/rare_label.py:179: UserWarning: The number of unique categories for variable 1 is less than that indicated in n_categories. Thus, all categories will be considered frequent\n",
      "  warnings.warn(\n",
      "/home/sid/Development/ds-workspace/feature-engineering/venv/lib/python3.8/site-packages/feature_engine/encoding/rare_label.py:179: UserWarning: The number of unique categories for variable 2 is less than that indicated in n_categories. Thus, all categories will be considered frequent\n",
      "  warnings.warn(\n",
      "/home/sid/Development/ds-workspace/feature-engineering/venv/lib/python3.8/site-packages/feature_engine/encoding/rare_label.py:179: UserWarning: The number of unique categories for variable 5 is less than that indicated in n_categories. Thus, all categories will be considered frequent\n",
      "  warnings.warn(\n",
      "/home/sid/Development/ds-workspace/feature-engineering/venv/lib/python3.8/site-packages/feature_engine/encoding/rare_label.py:179: UserWarning: The number of unique categories for variable 7 is less than that indicated in n_categories. Thus, all categories will be considered frequent\n",
      "  warnings.warn(\n"
     ]
    },
    {
     "name": "stderr",
     "output_type": "stream",
     "text": [
      "/home/sid/Development/ds-workspace/feature-engineering/venv/lib/python3.8/site-packages/feature_engine/encoding/rare_label.py:179: UserWarning: The number of unique categories for variable 7 is less than that indicated in n_categories. Thus, all categories will be considered frequent\n",
      "  warnings.warn(\n",
      "/home/sid/Development/ds-workspace/feature-engineering/venv/lib/python3.8/site-packages/feature_engine/encoding/rare_label.py:179: UserWarning: The number of unique categories for variable 28 is less than that indicated in n_categories. Thus, all categories will be considered frequent\n",
      "  warnings.warn(\n",
      "/home/sid/Development/ds-workspace/feature-engineering/venv/lib/python3.8/site-packages/feature_engine/encoding/rare_label.py:179: UserWarning: The number of unique categories for variable 34 is less than that indicated in n_categories. Thus, all categories will be considered frequent\n",
      "  warnings.warn(\n",
      "/home/sid/Development/ds-workspace/feature-engineering/venv/lib/python3.8/site-packages/feature_engine/encoding/rare_label.py:179: UserWarning: The number of unique categories for variable 37 is less than that indicated in n_categories. Thus, all categories will be considered frequent\n",
      "  warnings.warn(\n",
      "/home/sid/Development/ds-workspace/feature-engineering/venv/lib/python3.8/site-packages/feature_engine/encoding/rare_label.py:179: UserWarning: The number of unique categories for variable 38 is less than that indicated in n_categories. Thus, all categories will be considered frequent\n",
      "  warnings.warn(\n",
      "/home/sid/Development/ds-workspace/feature-engineering/venv/lib/python3.8/site-packages/feature_engine/encoding/rare_label.py:179: UserWarning: The number of unique categories for variable 40 is less than that indicated in n_categories. Thus, all categories will be considered frequent\n",
      "  warnings.warn(\n",
      "/home/sid/Development/ds-workspace/feature-engineering/venv/lib/python3.8/site-packages/feature_engine/encoding/rare_label.py:179: UserWarning: The number of unique categories for variable 43 is less than that indicated in n_categories. Thus, all categories will be considered frequent\n",
      "  warnings.warn(\n",
      "/home/sid/Development/ds-workspace/feature-engineering/venv/lib/python3.8/site-packages/feature_engine/encoding/rare_label.py:179: UserWarning: The number of unique categories for variable 44 is less than that indicated in n_categories. Thus, all categories will be considered frequent\n",
      "  warnings.warn(\n",
      "/home/sid/Development/ds-workspace/feature-engineering/venv/lib/python3.8/site-packages/feature_engine/encoding/rare_label.py:179: UserWarning: The number of unique categories for variable 45 is less than that indicated in n_categories. Thus, all categories will be considered frequent\n",
      "  warnings.warn(\n",
      "/home/sid/Development/ds-workspace/feature-engineering/venv/lib/python3.8/site-packages/feature_engine/encoding/rare_label.py:179: UserWarning: The number of unique categories for variable 46 is less than that indicated in n_categories. Thus, all categories will be considered frequent\n",
      "  warnings.warn(\n",
      "/home/sid/Development/ds-workspace/feature-engineering/venv/lib/python3.8/site-packages/feature_engine/encoding/rare_label.py:179: UserWarning: The number of unique categories for variable 47 is less than that indicated in n_categories. Thus, all categories will be considered frequent\n",
      "  warnings.warn(\n",
      "/home/sid/Development/ds-workspace/feature-engineering/venv/lib/python3.8/site-packages/feature_engine/encoding/rare_label.py:179: UserWarning: The number of unique categories for variable 48 is less than that indicated in n_categories. Thus, all categories will be considered frequent\n",
      "  warnings.warn(\n",
      "/home/sid/Development/ds-workspace/feature-engineering/venv/lib/python3.8/site-packages/feature_engine/encoding/rare_label.py:179: UserWarning: The number of unique categories for variable 49 is less than that indicated in n_categories. Thus, all categories will be considered frequent\n",
      "  warnings.warn(\n",
      "/home/sid/Development/ds-workspace/feature-engineering/venv/lib/python3.8/site-packages/feature_engine/encoding/rare_label.py:179: UserWarning: The number of unique categories for variable 50 is less than that indicated in n_categories. Thus, all categories will be considered frequent\n",
      "  warnings.warn(\n",
      "/home/sid/Development/ds-workspace/feature-engineering/venv/lib/python3.8/site-packages/feature_engine/encoding/rare_label.py:179: UserWarning: The number of unique categories for variable 51 is less than that indicated in n_categories. Thus, all categories will be considered frequent\n",
      "  warnings.warn(\n",
      "/home/sid/Development/ds-workspace/feature-engineering/venv/lib/python3.8/site-packages/feature_engine/encoding/rare_label.py:179: UserWarning: The number of unique categories for variable 52 is less than that indicated in n_categories. Thus, all categories will be considered frequent\n",
      "  warnings.warn(\n",
      "/home/sid/Development/ds-workspace/feature-engineering/venv/lib/python3.8/site-packages/feature_engine/encoding/rare_label.py:179: UserWarning: The number of unique categories for variable 53 is less than that indicated in n_categories. Thus, all categories will be considered frequent\n",
      "  warnings.warn(\n",
      "/home/sid/Development/ds-workspace/feature-engineering/venv/lib/python3.8/site-packages/feature_engine/encoding/rare_label.py:179: UserWarning: The number of unique categories for variable 54 is less than that indicated in n_categories. Thus, all categories will be considered frequent\n",
      "  warnings.warn(\n",
      "/home/sid/Development/ds-workspace/feature-engineering/venv/lib/python3.8/site-packages/feature_engine/encoding/rare_label.py:179: UserWarning: The number of unique categories for variable 55 is less than that indicated in n_categories. Thus, all categories will be considered frequent\n",
      "  warnings.warn(\n",
      "/home/sid/Development/ds-workspace/feature-engineering/venv/lib/python3.8/site-packages/feature_engine/encoding/rare_label.py:179: UserWarning: The number of unique categories for variable 56 is less than that indicated in n_categories. Thus, all categories will be considered frequent\n",
      "  warnings.warn(\n",
      "/home/sid/Development/ds-workspace/feature-engineering/venv/lib/python3.8/site-packages/feature_engine/encoding/rare_label.py:179: UserWarning: The number of unique categories for variable 57 is less than that indicated in n_categories. Thus, all categories will be considered frequent\n",
      "  warnings.warn(\n",
      "/home/sid/Development/ds-workspace/feature-engineering/venv/lib/python3.8/site-packages/feature_engine/encoding/rare_label.py:179: UserWarning: The number of unique categories for variable 58 is less than that indicated in n_categories. Thus, all categories will be considered frequent\n",
      "  warnings.warn(\n",
      "/home/sid/Development/ds-workspace/feature-engineering/venv/lib/python3.8/site-packages/sklearn/linear_model/_coordinate_descent.py:645: ConvergenceWarning: Objective did not converge. You might want to increase the number of iterations, check the scale of the features or consider increasing regularisation. Duality gap: 2.781e+11, tolerance: 6.151e+08\n",
      "  model = cd_fast.enet_coordinate_descent(\n",
      "/home/sid/Development/ds-workspace/feature-engineering/venv/lib/python3.8/site-packages/feature_engine/encoding/rare_label.py:179: UserWarning: The number of unique categories for variable 1 is less than that indicated in n_categories. Thus, all categories will be considered frequent\n",
      "  warnings.warn(\n",
      "/home/sid/Development/ds-workspace/feature-engineering/venv/lib/python3.8/site-packages/feature_engine/encoding/rare_label.py:179: UserWarning: The number of unique categories for variable 2 is less than that indicated in n_categories. Thus, all categories will be considered frequent\n",
      "  warnings.warn(\n",
      "/home/sid/Development/ds-workspace/feature-engineering/venv/lib/python3.8/site-packages/feature_engine/encoding/rare_label.py:179: UserWarning: The number of unique categories for variable 5 is less than that indicated in n_categories. Thus, all categories will be considered frequent\n",
      "  warnings.warn(\n",
      "/home/sid/Development/ds-workspace/feature-engineering/venv/lib/python3.8/site-packages/feature_engine/encoding/rare_label.py:179: UserWarning: The number of unique categories for variable 34 is less than that indicated in n_categories. Thus, all categories will be considered frequent\n",
      "  warnings.warn(\n",
      "/home/sid/Development/ds-workspace/feature-engineering/venv/lib/python3.8/site-packages/feature_engine/encoding/rare_label.py:179: UserWarning: The number of unique categories for variable 37 is less than that indicated in n_categories. Thus, all categories will be considered frequent\n",
      "  warnings.warn(\n",
      "/home/sid/Development/ds-workspace/feature-engineering/venv/lib/python3.8/site-packages/feature_engine/encoding/rare_label.py:179: UserWarning: The number of unique categories for variable 38 is less than that indicated in n_categories. Thus, all categories will be considered frequent\n",
      "  warnings.warn(\n",
      "/home/sid/Development/ds-workspace/feature-engineering/venv/lib/python3.8/site-packages/feature_engine/encoding/rare_label.py:179: UserWarning: The number of unique categories for variable 40 is less than that indicated in n_categories. Thus, all categories will be considered frequent\n",
      "  warnings.warn(\n",
      "/home/sid/Development/ds-workspace/feature-engineering/venv/lib/python3.8/site-packages/feature_engine/encoding/rare_label.py:179: UserWarning: The number of unique categories for variable 43 is less than that indicated in n_categories. Thus, all categories will be considered frequent\n",
      "  warnings.warn(\n",
      "/home/sid/Development/ds-workspace/feature-engineering/venv/lib/python3.8/site-packages/feature_engine/encoding/rare_label.py:179: UserWarning: The number of unique categories for variable 44 is less than that indicated in n_categories. Thus, all categories will be considered frequent\n",
      "  warnings.warn(\n",
      "/home/sid/Development/ds-workspace/feature-engineering/venv/lib/python3.8/site-packages/feature_engine/encoding/rare_label.py:179: UserWarning: The number of unique categories for variable 45 is less than that indicated in n_categories. Thus, all categories will be considered frequent\n",
      "  warnings.warn(\n",
      "/home/sid/Development/ds-workspace/feature-engineering/venv/lib/python3.8/site-packages/feature_engine/encoding/rare_label.py:179: UserWarning: The number of unique categories for variable 46 is less than that indicated in n_categories. Thus, all categories will be considered frequent\n",
      "  warnings.warn(\n",
      "/home/sid/Development/ds-workspace/feature-engineering/venv/lib/python3.8/site-packages/feature_engine/encoding/rare_label.py:179: UserWarning: The number of unique categories for variable 47 is less than that indicated in n_categories. Thus, all categories will be considered frequent\n",
      "  warnings.warn(\n",
      "/home/sid/Development/ds-workspace/feature-engineering/venv/lib/python3.8/site-packages/feature_engine/encoding/rare_label.py:179: UserWarning: The number of unique categories for variable 48 is less than that indicated in n_categories. Thus, all categories will be considered frequent\n",
      "  warnings.warn(\n",
      "/home/sid/Development/ds-workspace/feature-engineering/venv/lib/python3.8/site-packages/feature_engine/encoding/rare_label.py:179: UserWarning: The number of unique categories for variable 49 is less than that indicated in n_categories. Thus, all categories will be considered frequent\n",
      "  warnings.warn(\n",
      "/home/sid/Development/ds-workspace/feature-engineering/venv/lib/python3.8/site-packages/feature_engine/encoding/rare_label.py:179: UserWarning: The number of unique categories for variable 50 is less than that indicated in n_categories. Thus, all categories will be considered frequent\n",
      "  warnings.warn(\n",
      "/home/sid/Development/ds-workspace/feature-engineering/venv/lib/python3.8/site-packages/feature_engine/encoding/rare_label.py:179: UserWarning: The number of unique categories for variable 51 is less than that indicated in n_categories. Thus, all categories will be considered frequent\n",
      "  warnings.warn(\n",
      "/home/sid/Development/ds-workspace/feature-engineering/venv/lib/python3.8/site-packages/feature_engine/encoding/rare_label.py:179: UserWarning: The number of unique categories for variable 52 is less than that indicated in n_categories. Thus, all categories will be considered frequent\n",
      "  warnings.warn(\n",
      "/home/sid/Development/ds-workspace/feature-engineering/venv/lib/python3.8/site-packages/feature_engine/encoding/rare_label.py:179: UserWarning: The number of unique categories for variable 53 is less than that indicated in n_categories. Thus, all categories will be considered frequent\n",
      "  warnings.warn(\n",
      "/home/sid/Development/ds-workspace/feature-engineering/venv/lib/python3.8/site-packages/feature_engine/encoding/rare_label.py:179: UserWarning: The number of unique categories for variable 54 is less than that indicated in n_categories. Thus, all categories will be considered frequent\n",
      "  warnings.warn(\n",
      "/home/sid/Development/ds-workspace/feature-engineering/venv/lib/python3.8/site-packages/feature_engine/encoding/rare_label.py:179: UserWarning: The number of unique categories for variable 55 is less than that indicated in n_categories. Thus, all categories will be considered frequent\n",
      "  warnings.warn(\n",
      "/home/sid/Development/ds-workspace/feature-engineering/venv/lib/python3.8/site-packages/feature_engine/encoding/rare_label.py:179: UserWarning: The number of unique categories for variable 56 is less than that indicated in n_categories. Thus, all categories will be considered frequent\n",
      "  warnings.warn(\n",
      "/home/sid/Development/ds-workspace/feature-engineering/venv/lib/python3.8/site-packages/feature_engine/encoding/rare_label.py:179: UserWarning: The number of unique categories for variable 57 is less than that indicated in n_categories. Thus, all categories will be considered frequent\n",
      "  warnings.warn(\n",
      "/home/sid/Development/ds-workspace/feature-engineering/venv/lib/python3.8/site-packages/feature_engine/encoding/rare_label.py:179: UserWarning: The number of unique categories for variable 58 is less than that indicated in n_categories. Thus, all categories will be considered frequent\n",
      "  warnings.warn(\n",
      "/home/sid/Development/ds-workspace/feature-engineering/venv/lib/python3.8/site-packages/sklearn/linear_model/_coordinate_descent.py:645: ConvergenceWarning: Objective did not converge. You might want to increase the number of iterations, check the scale of the features or consider increasing regularisation. Duality gap: 1.558e+11, tolerance: 5.532e+08\n",
      "  model = cd_fast.enet_coordinate_descent(\n",
      "/home/sid/Development/ds-workspace/feature-engineering/venv/lib/python3.8/site-packages/feature_engine/encoding/rare_label.py:179: UserWarning: The number of unique categories for variable 1 is less than that indicated in n_categories. Thus, all categories will be considered frequent\n",
      "  warnings.warn(\n",
      "/home/sid/Development/ds-workspace/feature-engineering/venv/lib/python3.8/site-packages/feature_engine/encoding/rare_label.py:179: UserWarning: The number of unique categories for variable 2 is less than that indicated in n_categories. Thus, all categories will be considered frequent\n",
      "  warnings.warn(\n",
      "/home/sid/Development/ds-workspace/feature-engineering/venv/lib/python3.8/site-packages/feature_engine/encoding/rare_label.py:179: UserWarning: The number of unique categories for variable 5 is less than that indicated in n_categories. Thus, all categories will be considered frequent\n",
      "  warnings.warn(\n",
      "/home/sid/Development/ds-workspace/feature-engineering/venv/lib/python3.8/site-packages/feature_engine/encoding/rare_label.py:179: UserWarning: The number of unique categories for variable 7 is less than that indicated in n_categories. Thus, all categories will be considered frequent\n",
      "  warnings.warn(\n",
      "/home/sid/Development/ds-workspace/feature-engineering/venv/lib/python3.8/site-packages/feature_engine/encoding/rare_label.py:179: UserWarning: The number of unique categories for variable 28 is less than that indicated in n_categories. Thus, all categories will be considered frequent\n",
      "  warnings.warn(\n"
     ]
    },
    {
     "data": {
      "text/plain": [
       "{'preprocessor__categorical_preprocess__categorical_data_imputer__add_indicator': False,\n",
       " 'preprocessor__categorical_preprocess__categorical_data_imputer__strategy': 'most_frequent'}"
      ]
     },
     "execution_count": 80,
     "metadata": {},
     "output_type": "execute_result"
    }
   ],
   "source": [
    "# param grid search\n",
    "\n",
    "param_grid = {\n",
    "    'preprocessor__categorical_preprocess__categorical_data_imputer__strategy': ['constant', 'most_frequent'],\n",
    "    'preprocessor__categorical_preprocess__categorical_data_imputer__add_indicator': [True, False],\n",
    "#     'preprocessor__categorical_preprocess__rare_label_encoding__tol': [0.02, 0.025, 0.03, 0.05, 0.07],\n",
    "#     'preprocessor__numeric_data_preprocess__simple_imputer__strategy': ['mean', 'median', 'most_frequent'],\n",
    "#     'preprocessor__numeric_data_preprocess__discretizer__n_bins': [10, 15, 20, 30, 35, 40, 50, 55, 65],\n",
    "#     'preprocessor__numeric_data_preprocess__discretizer__strategy': ['uniform', 'quantile']\n",
    "}\n",
    "\n",
    "grid_search = GridSearchCV(n_jobs=4, estimator=pipeline, param_grid=param_grid, cv=5, scoring='neg_root_mean_squared_error')\n",
    "\n",
    "grid_search.fit(custom_data_imputer(train_x), train_y)\n",
    "\n",
    "grid_search.best_params_"
   ]
  },
  {
   "cell_type": "code",
   "execution_count": 62,
   "id": "d911492c",
   "metadata": {},
   "outputs": [
    {
     "data": {
      "text/html": [
       "<div>\n",
       "<style scoped>\n",
       "    .dataframe tbody tr th:only-of-type {\n",
       "        vertical-align: middle;\n",
       "    }\n",
       "\n",
       "    .dataframe tbody tr th {\n",
       "        vertical-align: top;\n",
       "    }\n",
       "\n",
       "    .dataframe thead th {\n",
       "        text-align: right;\n",
       "    }\n",
       "</style>\n",
       "<table border=\"1\" class=\"dataframe\">\n",
       "  <thead>\n",
       "    <tr style=\"text-align: right;\">\n",
       "      <th></th>\n",
       "      <th>MSSubClass</th>\n",
       "      <th>MSZoning</th>\n",
       "      <th>LotFrontage</th>\n",
       "      <th>LotArea</th>\n",
       "      <th>Street</th>\n",
       "      <th>Alley</th>\n",
       "      <th>LotShape</th>\n",
       "      <th>LandContour</th>\n",
       "      <th>Utilities</th>\n",
       "      <th>LotConfig</th>\n",
       "      <th>LandSlope</th>\n",
       "      <th>Neighborhood</th>\n",
       "      <th>Condition1</th>\n",
       "      <th>Condition2</th>\n",
       "      <th>BldgType</th>\n",
       "      <th>HouseStyle</th>\n",
       "      <th>OverallQual</th>\n",
       "      <th>OverallCond</th>\n",
       "      <th>YearBuilt</th>\n",
       "      <th>YearRemodAdd</th>\n",
       "      <th>RoofStyle</th>\n",
       "      <th>RoofMatl</th>\n",
       "      <th>Exterior1st</th>\n",
       "      <th>Exterior2nd</th>\n",
       "      <th>MasVnrType</th>\n",
       "      <th>MasVnrArea</th>\n",
       "      <th>ExterQual</th>\n",
       "      <th>ExterCond</th>\n",
       "      <th>Foundation</th>\n",
       "      <th>BsmtQual</th>\n",
       "      <th>BsmtCond</th>\n",
       "      <th>BsmtExposure</th>\n",
       "      <th>BsmtFinType1</th>\n",
       "      <th>BsmtFinSF1</th>\n",
       "      <th>BsmtFinType2</th>\n",
       "      <th>BsmtFinSF2</th>\n",
       "      <th>BsmtUnfSF</th>\n",
       "      <th>TotalBsmtSF</th>\n",
       "      <th>Heating</th>\n",
       "      <th>HeatingQC</th>\n",
       "      <th>CentralAir</th>\n",
       "      <th>Electrical</th>\n",
       "      <th>1stFlrSF</th>\n",
       "      <th>2ndFlrSF</th>\n",
       "      <th>LowQualFinSF</th>\n",
       "      <th>GrLivArea</th>\n",
       "      <th>BsmtFullBath</th>\n",
       "      <th>BsmtHalfBath</th>\n",
       "      <th>FullBath</th>\n",
       "      <th>HalfBath</th>\n",
       "      <th>BedroomAbvGr</th>\n",
       "      <th>KitchenAbvGr</th>\n",
       "      <th>KitchenQual</th>\n",
       "      <th>TotRmsAbvGrd</th>\n",
       "      <th>Functional</th>\n",
       "      <th>Fireplaces</th>\n",
       "      <th>FireplaceQu</th>\n",
       "      <th>GarageType</th>\n",
       "      <th>GarageYrBlt</th>\n",
       "      <th>GarageFinish</th>\n",
       "      <th>GarageCars</th>\n",
       "      <th>GarageArea</th>\n",
       "      <th>GarageQual</th>\n",
       "      <th>GarageCond</th>\n",
       "      <th>PavedDrive</th>\n",
       "      <th>WoodDeckSF</th>\n",
       "      <th>OpenPorchSF</th>\n",
       "      <th>EnclosedPorch</th>\n",
       "      <th>3SsnPorch</th>\n",
       "      <th>ScreenPorch</th>\n",
       "      <th>PoolArea</th>\n",
       "      <th>PoolQC</th>\n",
       "      <th>Fence</th>\n",
       "      <th>MiscFeature</th>\n",
       "      <th>MiscVal</th>\n",
       "      <th>MoSold</th>\n",
       "      <th>YrSold</th>\n",
       "      <th>SaleType</th>\n",
       "      <th>SaleCondition</th>\n",
       "    </tr>\n",
       "    <tr>\n",
       "      <th>Id</th>\n",
       "      <th></th>\n",
       "      <th></th>\n",
       "      <th></th>\n",
       "      <th></th>\n",
       "      <th></th>\n",
       "      <th></th>\n",
       "      <th></th>\n",
       "      <th></th>\n",
       "      <th></th>\n",
       "      <th></th>\n",
       "      <th></th>\n",
       "      <th></th>\n",
       "      <th></th>\n",
       "      <th></th>\n",
       "      <th></th>\n",
       "      <th></th>\n",
       "      <th></th>\n",
       "      <th></th>\n",
       "      <th></th>\n",
       "      <th></th>\n",
       "      <th></th>\n",
       "      <th></th>\n",
       "      <th></th>\n",
       "      <th></th>\n",
       "      <th></th>\n",
       "      <th></th>\n",
       "      <th></th>\n",
       "      <th></th>\n",
       "      <th></th>\n",
       "      <th></th>\n",
       "      <th></th>\n",
       "      <th></th>\n",
       "      <th></th>\n",
       "      <th></th>\n",
       "      <th></th>\n",
       "      <th></th>\n",
       "      <th></th>\n",
       "      <th></th>\n",
       "      <th></th>\n",
       "      <th></th>\n",
       "      <th></th>\n",
       "      <th></th>\n",
       "      <th></th>\n",
       "      <th></th>\n",
       "      <th></th>\n",
       "      <th></th>\n",
       "      <th></th>\n",
       "      <th></th>\n",
       "      <th></th>\n",
       "      <th></th>\n",
       "      <th></th>\n",
       "      <th></th>\n",
       "      <th></th>\n",
       "      <th></th>\n",
       "      <th></th>\n",
       "      <th></th>\n",
       "      <th></th>\n",
       "      <th></th>\n",
       "      <th></th>\n",
       "      <th></th>\n",
       "      <th></th>\n",
       "      <th></th>\n",
       "      <th></th>\n",
       "      <th></th>\n",
       "      <th></th>\n",
       "      <th></th>\n",
       "      <th></th>\n",
       "      <th></th>\n",
       "      <th></th>\n",
       "      <th></th>\n",
       "      <th></th>\n",
       "      <th></th>\n",
       "      <th></th>\n",
       "      <th></th>\n",
       "      <th></th>\n",
       "      <th></th>\n",
       "      <th></th>\n",
       "      <th></th>\n",
       "      <th></th>\n",
       "    </tr>\n",
       "  </thead>\n",
       "  <tbody>\n",
       "    <tr>\n",
       "      <th>1461</th>\n",
       "      <td>20</td>\n",
       "      <td>RH</td>\n",
       "      <td>80.0</td>\n",
       "      <td>11622</td>\n",
       "      <td>Pave</td>\n",
       "      <td>NaN</td>\n",
       "      <td>Reg</td>\n",
       "      <td>Lvl</td>\n",
       "      <td>AllPub</td>\n",
       "      <td>Inside</td>\n",
       "      <td>Gtl</td>\n",
       "      <td>NAmes</td>\n",
       "      <td>Feedr</td>\n",
       "      <td>Norm</td>\n",
       "      <td>1Fam</td>\n",
       "      <td>1Story</td>\n",
       "      <td>5</td>\n",
       "      <td>6</td>\n",
       "      <td>1961</td>\n",
       "      <td>1961</td>\n",
       "      <td>Gable</td>\n",
       "      <td>CompShg</td>\n",
       "      <td>VinylSd</td>\n",
       "      <td>VinylSd</td>\n",
       "      <td>None</td>\n",
       "      <td>0.0</td>\n",
       "      <td>TA</td>\n",
       "      <td>TA</td>\n",
       "      <td>CBlock</td>\n",
       "      <td>TA</td>\n",
       "      <td>TA</td>\n",
       "      <td>No</td>\n",
       "      <td>Rec</td>\n",
       "      <td>468.0</td>\n",
       "      <td>LwQ</td>\n",
       "      <td>144.0</td>\n",
       "      <td>270.0</td>\n",
       "      <td>882.0</td>\n",
       "      <td>GasA</td>\n",
       "      <td>TA</td>\n",
       "      <td>Y</td>\n",
       "      <td>SBrkr</td>\n",
       "      <td>896</td>\n",
       "      <td>0</td>\n",
       "      <td>0</td>\n",
       "      <td>896</td>\n",
       "      <td>0.0</td>\n",
       "      <td>0.0</td>\n",
       "      <td>1</td>\n",
       "      <td>0</td>\n",
       "      <td>2</td>\n",
       "      <td>1</td>\n",
       "      <td>TA</td>\n",
       "      <td>5</td>\n",
       "      <td>Typ</td>\n",
       "      <td>0</td>\n",
       "      <td>NaN</td>\n",
       "      <td>Attchd</td>\n",
       "      <td>1961.0</td>\n",
       "      <td>Unf</td>\n",
       "      <td>1.0</td>\n",
       "      <td>730.0</td>\n",
       "      <td>TA</td>\n",
       "      <td>TA</td>\n",
       "      <td>Y</td>\n",
       "      <td>140</td>\n",
       "      <td>0</td>\n",
       "      <td>0</td>\n",
       "      <td>0</td>\n",
       "      <td>120</td>\n",
       "      <td>0</td>\n",
       "      <td>NaN</td>\n",
       "      <td>MnPrv</td>\n",
       "      <td>NaN</td>\n",
       "      <td>0</td>\n",
       "      <td>6</td>\n",
       "      <td>2010</td>\n",
       "      <td>WD</td>\n",
       "      <td>Normal</td>\n",
       "    </tr>\n",
       "    <tr>\n",
       "      <th>1462</th>\n",
       "      <td>20</td>\n",
       "      <td>RL</td>\n",
       "      <td>81.0</td>\n",
       "      <td>14267</td>\n",
       "      <td>Pave</td>\n",
       "      <td>NaN</td>\n",
       "      <td>IR1</td>\n",
       "      <td>Lvl</td>\n",
       "      <td>AllPub</td>\n",
       "      <td>Corner</td>\n",
       "      <td>Gtl</td>\n",
       "      <td>NAmes</td>\n",
       "      <td>Norm</td>\n",
       "      <td>Norm</td>\n",
       "      <td>1Fam</td>\n",
       "      <td>1Story</td>\n",
       "      <td>6</td>\n",
       "      <td>6</td>\n",
       "      <td>1958</td>\n",
       "      <td>1958</td>\n",
       "      <td>Hip</td>\n",
       "      <td>CompShg</td>\n",
       "      <td>Wd Sdng</td>\n",
       "      <td>Wd Sdng</td>\n",
       "      <td>BrkFace</td>\n",
       "      <td>108.0</td>\n",
       "      <td>TA</td>\n",
       "      <td>TA</td>\n",
       "      <td>CBlock</td>\n",
       "      <td>TA</td>\n",
       "      <td>TA</td>\n",
       "      <td>No</td>\n",
       "      <td>ALQ</td>\n",
       "      <td>923.0</td>\n",
       "      <td>Unf</td>\n",
       "      <td>0.0</td>\n",
       "      <td>406.0</td>\n",
       "      <td>1329.0</td>\n",
       "      <td>GasA</td>\n",
       "      <td>TA</td>\n",
       "      <td>Y</td>\n",
       "      <td>SBrkr</td>\n",
       "      <td>1329</td>\n",
       "      <td>0</td>\n",
       "      <td>0</td>\n",
       "      <td>1329</td>\n",
       "      <td>0.0</td>\n",
       "      <td>0.0</td>\n",
       "      <td>1</td>\n",
       "      <td>1</td>\n",
       "      <td>3</td>\n",
       "      <td>1</td>\n",
       "      <td>Gd</td>\n",
       "      <td>6</td>\n",
       "      <td>Typ</td>\n",
       "      <td>0</td>\n",
       "      <td>NaN</td>\n",
       "      <td>Attchd</td>\n",
       "      <td>1958.0</td>\n",
       "      <td>Unf</td>\n",
       "      <td>1.0</td>\n",
       "      <td>312.0</td>\n",
       "      <td>TA</td>\n",
       "      <td>TA</td>\n",
       "      <td>Y</td>\n",
       "      <td>393</td>\n",
       "      <td>36</td>\n",
       "      <td>0</td>\n",
       "      <td>0</td>\n",
       "      <td>0</td>\n",
       "      <td>0</td>\n",
       "      <td>NaN</td>\n",
       "      <td>NaN</td>\n",
       "      <td>Gar2</td>\n",
       "      <td>12500</td>\n",
       "      <td>6</td>\n",
       "      <td>2010</td>\n",
       "      <td>WD</td>\n",
       "      <td>Normal</td>\n",
       "    </tr>\n",
       "    <tr>\n",
       "      <th>1463</th>\n",
       "      <td>60</td>\n",
       "      <td>RL</td>\n",
       "      <td>74.0</td>\n",
       "      <td>13830</td>\n",
       "      <td>Pave</td>\n",
       "      <td>NaN</td>\n",
       "      <td>IR1</td>\n",
       "      <td>Lvl</td>\n",
       "      <td>AllPub</td>\n",
       "      <td>Inside</td>\n",
       "      <td>Gtl</td>\n",
       "      <td>Gilbert</td>\n",
       "      <td>Norm</td>\n",
       "      <td>Norm</td>\n",
       "      <td>1Fam</td>\n",
       "      <td>2Story</td>\n",
       "      <td>5</td>\n",
       "      <td>5</td>\n",
       "      <td>1997</td>\n",
       "      <td>1998</td>\n",
       "      <td>Gable</td>\n",
       "      <td>CompShg</td>\n",
       "      <td>VinylSd</td>\n",
       "      <td>VinylSd</td>\n",
       "      <td>None</td>\n",
       "      <td>0.0</td>\n",
       "      <td>TA</td>\n",
       "      <td>TA</td>\n",
       "      <td>PConc</td>\n",
       "      <td>Gd</td>\n",
       "      <td>TA</td>\n",
       "      <td>No</td>\n",
       "      <td>GLQ</td>\n",
       "      <td>791.0</td>\n",
       "      <td>Unf</td>\n",
       "      <td>0.0</td>\n",
       "      <td>137.0</td>\n",
       "      <td>928.0</td>\n",
       "      <td>GasA</td>\n",
       "      <td>Gd</td>\n",
       "      <td>Y</td>\n",
       "      <td>SBrkr</td>\n",
       "      <td>928</td>\n",
       "      <td>701</td>\n",
       "      <td>0</td>\n",
       "      <td>1629</td>\n",
       "      <td>0.0</td>\n",
       "      <td>0.0</td>\n",
       "      <td>2</td>\n",
       "      <td>1</td>\n",
       "      <td>3</td>\n",
       "      <td>1</td>\n",
       "      <td>TA</td>\n",
       "      <td>6</td>\n",
       "      <td>Typ</td>\n",
       "      <td>1</td>\n",
       "      <td>TA</td>\n",
       "      <td>Attchd</td>\n",
       "      <td>1997.0</td>\n",
       "      <td>Fin</td>\n",
       "      <td>2.0</td>\n",
       "      <td>482.0</td>\n",
       "      <td>TA</td>\n",
       "      <td>TA</td>\n",
       "      <td>Y</td>\n",
       "      <td>212</td>\n",
       "      <td>34</td>\n",
       "      <td>0</td>\n",
       "      <td>0</td>\n",
       "      <td>0</td>\n",
       "      <td>0</td>\n",
       "      <td>NaN</td>\n",
       "      <td>MnPrv</td>\n",
       "      <td>NaN</td>\n",
       "      <td>0</td>\n",
       "      <td>3</td>\n",
       "      <td>2010</td>\n",
       "      <td>WD</td>\n",
       "      <td>Normal</td>\n",
       "    </tr>\n",
       "    <tr>\n",
       "      <th>1464</th>\n",
       "      <td>60</td>\n",
       "      <td>RL</td>\n",
       "      <td>78.0</td>\n",
       "      <td>9978</td>\n",
       "      <td>Pave</td>\n",
       "      <td>NaN</td>\n",
       "      <td>IR1</td>\n",
       "      <td>Lvl</td>\n",
       "      <td>AllPub</td>\n",
       "      <td>Inside</td>\n",
       "      <td>Gtl</td>\n",
       "      <td>Gilbert</td>\n",
       "      <td>Norm</td>\n",
       "      <td>Norm</td>\n",
       "      <td>1Fam</td>\n",
       "      <td>2Story</td>\n",
       "      <td>6</td>\n",
       "      <td>6</td>\n",
       "      <td>1998</td>\n",
       "      <td>1998</td>\n",
       "      <td>Gable</td>\n",
       "      <td>CompShg</td>\n",
       "      <td>VinylSd</td>\n",
       "      <td>VinylSd</td>\n",
       "      <td>BrkFace</td>\n",
       "      <td>20.0</td>\n",
       "      <td>TA</td>\n",
       "      <td>TA</td>\n",
       "      <td>PConc</td>\n",
       "      <td>TA</td>\n",
       "      <td>TA</td>\n",
       "      <td>No</td>\n",
       "      <td>GLQ</td>\n",
       "      <td>602.0</td>\n",
       "      <td>Unf</td>\n",
       "      <td>0.0</td>\n",
       "      <td>324.0</td>\n",
       "      <td>926.0</td>\n",
       "      <td>GasA</td>\n",
       "      <td>Ex</td>\n",
       "      <td>Y</td>\n",
       "      <td>SBrkr</td>\n",
       "      <td>926</td>\n",
       "      <td>678</td>\n",
       "      <td>0</td>\n",
       "      <td>1604</td>\n",
       "      <td>0.0</td>\n",
       "      <td>0.0</td>\n",
       "      <td>2</td>\n",
       "      <td>1</td>\n",
       "      <td>3</td>\n",
       "      <td>1</td>\n",
       "      <td>Gd</td>\n",
       "      <td>7</td>\n",
       "      <td>Typ</td>\n",
       "      <td>1</td>\n",
       "      <td>Gd</td>\n",
       "      <td>Attchd</td>\n",
       "      <td>1998.0</td>\n",
       "      <td>Fin</td>\n",
       "      <td>2.0</td>\n",
       "      <td>470.0</td>\n",
       "      <td>TA</td>\n",
       "      <td>TA</td>\n",
       "      <td>Y</td>\n",
       "      <td>360</td>\n",
       "      <td>36</td>\n",
       "      <td>0</td>\n",
       "      <td>0</td>\n",
       "      <td>0</td>\n",
       "      <td>0</td>\n",
       "      <td>NaN</td>\n",
       "      <td>NaN</td>\n",
       "      <td>NaN</td>\n",
       "      <td>0</td>\n",
       "      <td>6</td>\n",
       "      <td>2010</td>\n",
       "      <td>WD</td>\n",
       "      <td>Normal</td>\n",
       "    </tr>\n",
       "    <tr>\n",
       "      <th>1465</th>\n",
       "      <td>120</td>\n",
       "      <td>RL</td>\n",
       "      <td>43.0</td>\n",
       "      <td>5005</td>\n",
       "      <td>Pave</td>\n",
       "      <td>NaN</td>\n",
       "      <td>IR1</td>\n",
       "      <td>HLS</td>\n",
       "      <td>AllPub</td>\n",
       "      <td>Inside</td>\n",
       "      <td>Gtl</td>\n",
       "      <td>StoneBr</td>\n",
       "      <td>Norm</td>\n",
       "      <td>Norm</td>\n",
       "      <td>TwnhsE</td>\n",
       "      <td>1Story</td>\n",
       "      <td>8</td>\n",
       "      <td>5</td>\n",
       "      <td>1992</td>\n",
       "      <td>1992</td>\n",
       "      <td>Gable</td>\n",
       "      <td>CompShg</td>\n",
       "      <td>HdBoard</td>\n",
       "      <td>HdBoard</td>\n",
       "      <td>None</td>\n",
       "      <td>0.0</td>\n",
       "      <td>Gd</td>\n",
       "      <td>TA</td>\n",
       "      <td>PConc</td>\n",
       "      <td>Gd</td>\n",
       "      <td>TA</td>\n",
       "      <td>No</td>\n",
       "      <td>ALQ</td>\n",
       "      <td>263.0</td>\n",
       "      <td>Unf</td>\n",
       "      <td>0.0</td>\n",
       "      <td>1017.0</td>\n",
       "      <td>1280.0</td>\n",
       "      <td>GasA</td>\n",
       "      <td>Ex</td>\n",
       "      <td>Y</td>\n",
       "      <td>SBrkr</td>\n",
       "      <td>1280</td>\n",
       "      <td>0</td>\n",
       "      <td>0</td>\n",
       "      <td>1280</td>\n",
       "      <td>0.0</td>\n",
       "      <td>0.0</td>\n",
       "      <td>2</td>\n",
       "      <td>0</td>\n",
       "      <td>2</td>\n",
       "      <td>1</td>\n",
       "      <td>Gd</td>\n",
       "      <td>5</td>\n",
       "      <td>Typ</td>\n",
       "      <td>0</td>\n",
       "      <td>NaN</td>\n",
       "      <td>Attchd</td>\n",
       "      <td>1992.0</td>\n",
       "      <td>RFn</td>\n",
       "      <td>2.0</td>\n",
       "      <td>506.0</td>\n",
       "      <td>TA</td>\n",
       "      <td>TA</td>\n",
       "      <td>Y</td>\n",
       "      <td>0</td>\n",
       "      <td>82</td>\n",
       "      <td>0</td>\n",
       "      <td>0</td>\n",
       "      <td>144</td>\n",
       "      <td>0</td>\n",
       "      <td>NaN</td>\n",
       "      <td>NaN</td>\n",
       "      <td>NaN</td>\n",
       "      <td>0</td>\n",
       "      <td>1</td>\n",
       "      <td>2010</td>\n",
       "      <td>WD</td>\n",
       "      <td>Normal</td>\n",
       "    </tr>\n",
       "  </tbody>\n",
       "</table>\n",
       "</div>"
      ],
      "text/plain": [
       "      MSSubClass MSZoning  LotFrontage  LotArea Street Alley LotShape  \\\n",
       "Id                                                                      \n",
       "1461          20       RH         80.0    11622   Pave   NaN      Reg   \n",
       "1462          20       RL         81.0    14267   Pave   NaN      IR1   \n",
       "1463          60       RL         74.0    13830   Pave   NaN      IR1   \n",
       "1464          60       RL         78.0     9978   Pave   NaN      IR1   \n",
       "1465         120       RL         43.0     5005   Pave   NaN      IR1   \n",
       "\n",
       "     LandContour Utilities LotConfig LandSlope Neighborhood Condition1  \\\n",
       "Id                                                                       \n",
       "1461         Lvl    AllPub    Inside       Gtl        NAmes      Feedr   \n",
       "1462         Lvl    AllPub    Corner       Gtl        NAmes       Norm   \n",
       "1463         Lvl    AllPub    Inside       Gtl      Gilbert       Norm   \n",
       "1464         Lvl    AllPub    Inside       Gtl      Gilbert       Norm   \n",
       "1465         HLS    AllPub    Inside       Gtl      StoneBr       Norm   \n",
       "\n",
       "     Condition2 BldgType HouseStyle  OverallQual  OverallCond  YearBuilt  \\\n",
       "Id                                                                         \n",
       "1461       Norm     1Fam     1Story            5            6       1961   \n",
       "1462       Norm     1Fam     1Story            6            6       1958   \n",
       "1463       Norm     1Fam     2Story            5            5       1997   \n",
       "1464       Norm     1Fam     2Story            6            6       1998   \n",
       "1465       Norm   TwnhsE     1Story            8            5       1992   \n",
       "\n",
       "      YearRemodAdd RoofStyle RoofMatl Exterior1st Exterior2nd MasVnrType  \\\n",
       "Id                                                                         \n",
       "1461          1961     Gable  CompShg     VinylSd     VinylSd       None   \n",
       "1462          1958       Hip  CompShg     Wd Sdng     Wd Sdng    BrkFace   \n",
       "1463          1998     Gable  CompShg     VinylSd     VinylSd       None   \n",
       "1464          1998     Gable  CompShg     VinylSd     VinylSd    BrkFace   \n",
       "1465          1992     Gable  CompShg     HdBoard     HdBoard       None   \n",
       "\n",
       "      MasVnrArea ExterQual ExterCond Foundation BsmtQual BsmtCond  \\\n",
       "Id                                                                  \n",
       "1461         0.0        TA        TA     CBlock       TA       TA   \n",
       "1462       108.0        TA        TA     CBlock       TA       TA   \n",
       "1463         0.0        TA        TA      PConc       Gd       TA   \n",
       "1464        20.0        TA        TA      PConc       TA       TA   \n",
       "1465         0.0        Gd        TA      PConc       Gd       TA   \n",
       "\n",
       "     BsmtExposure BsmtFinType1  BsmtFinSF1 BsmtFinType2  BsmtFinSF2  \\\n",
       "Id                                                                    \n",
       "1461           No          Rec       468.0          LwQ       144.0   \n",
       "1462           No          ALQ       923.0          Unf         0.0   \n",
       "1463           No          GLQ       791.0          Unf         0.0   \n",
       "1464           No          GLQ       602.0          Unf         0.0   \n",
       "1465           No          ALQ       263.0          Unf         0.0   \n",
       "\n",
       "      BsmtUnfSF  TotalBsmtSF Heating HeatingQC CentralAir Electrical  \\\n",
       "Id                                                                     \n",
       "1461      270.0        882.0    GasA        TA          Y      SBrkr   \n",
       "1462      406.0       1329.0    GasA        TA          Y      SBrkr   \n",
       "1463      137.0        928.0    GasA        Gd          Y      SBrkr   \n",
       "1464      324.0        926.0    GasA        Ex          Y      SBrkr   \n",
       "1465     1017.0       1280.0    GasA        Ex          Y      SBrkr   \n",
       "\n",
       "      1stFlrSF  2ndFlrSF  LowQualFinSF  GrLivArea  BsmtFullBath  BsmtHalfBath  \\\n",
       "Id                                                                              \n",
       "1461       896         0             0        896           0.0           0.0   \n",
       "1462      1329         0             0       1329           0.0           0.0   \n",
       "1463       928       701             0       1629           0.0           0.0   \n",
       "1464       926       678             0       1604           0.0           0.0   \n",
       "1465      1280         0             0       1280           0.0           0.0   \n",
       "\n",
       "      FullBath  HalfBath  BedroomAbvGr  KitchenAbvGr KitchenQual  \\\n",
       "Id                                                                 \n",
       "1461         1         0             2             1          TA   \n",
       "1462         1         1             3             1          Gd   \n",
       "1463         2         1             3             1          TA   \n",
       "1464         2         1             3             1          Gd   \n",
       "1465         2         0             2             1          Gd   \n",
       "\n",
       "      TotRmsAbvGrd Functional  Fireplaces FireplaceQu GarageType  GarageYrBlt  \\\n",
       "Id                                                                              \n",
       "1461             5        Typ           0         NaN     Attchd       1961.0   \n",
       "1462             6        Typ           0         NaN     Attchd       1958.0   \n",
       "1463             6        Typ           1          TA     Attchd       1997.0   \n",
       "1464             7        Typ           1          Gd     Attchd       1998.0   \n",
       "1465             5        Typ           0         NaN     Attchd       1992.0   \n",
       "\n",
       "     GarageFinish  GarageCars  GarageArea GarageQual GarageCond PavedDrive  \\\n",
       "Id                                                                           \n",
       "1461          Unf         1.0       730.0         TA         TA          Y   \n",
       "1462          Unf         1.0       312.0         TA         TA          Y   \n",
       "1463          Fin         2.0       482.0         TA         TA          Y   \n",
       "1464          Fin         2.0       470.0         TA         TA          Y   \n",
       "1465          RFn         2.0       506.0         TA         TA          Y   \n",
       "\n",
       "      WoodDeckSF  OpenPorchSF  EnclosedPorch  3SsnPorch  ScreenPorch  \\\n",
       "Id                                                                     \n",
       "1461         140            0              0          0          120   \n",
       "1462         393           36              0          0            0   \n",
       "1463         212           34              0          0            0   \n",
       "1464         360           36              0          0            0   \n",
       "1465           0           82              0          0          144   \n",
       "\n",
       "      PoolArea PoolQC  Fence MiscFeature  MiscVal  MoSold  YrSold SaleType  \\\n",
       "Id                                                                           \n",
       "1461         0    NaN  MnPrv         NaN        0       6    2010       WD   \n",
       "1462         0    NaN    NaN        Gar2    12500       6    2010       WD   \n",
       "1463         0    NaN  MnPrv         NaN        0       3    2010       WD   \n",
       "1464         0    NaN    NaN         NaN        0       6    2010       WD   \n",
       "1465         0    NaN    NaN         NaN        0       1    2010       WD   \n",
       "\n",
       "     SaleCondition  \n",
       "Id                  \n",
       "1461        Normal  \n",
       "1462        Normal  \n",
       "1463        Normal  \n",
       "1464        Normal  \n",
       "1465        Normal  "
      ]
     },
     "execution_count": 62,
     "metadata": {},
     "output_type": "execute_result"
    }
   ],
   "source": [
    "test_data = pd.read_csv('../datasets/home-data-for-ml-course/test.csv', index_col='Id')\n",
    "test_data.head()"
   ]
  },
  {
   "cell_type": "code",
   "execution_count": 65,
   "id": "2b85c27a",
   "metadata": {},
   "outputs": [],
   "source": [
    "# predict\n",
    "\n",
    "x = custom_data_imputer(test_data)\n",
    "\n",
    "test_data_predictions = model.predict(x)\n",
    "\n",
    "test_data_predictions = pd.DataFrame({'SalePrice': test_data_predictions})\n",
    "test_data_predictions.index = test_data.index\n",
    "test_data_predictions.to_csv('./submission.csv', index=True)"
   ]
  },
  {
   "cell_type": "code",
   "execution_count": null,
   "id": "52996034",
   "metadata": {},
   "outputs": [],
   "source": []
  }
 ],
 "metadata": {
  "kernelspec": {
   "display_name": "Python 3 (ipykernel)",
   "language": "python",
   "name": "python3"
  },
  "language_info": {
   "codemirror_mode": {
    "name": "ipython",
    "version": 3
   },
   "file_extension": ".py",
   "mimetype": "text/x-python",
   "name": "python",
   "nbconvert_exporter": "python",
   "pygments_lexer": "ipython3",
   "version": "3.8.10"
  }
 },
 "nbformat": 4,
 "nbformat_minor": 5
}
